{
 "cells": [
  {
   "cell_type": "code",
   "execution_count": 119,
   "id": "80e8749b",
   "metadata": {},
   "outputs": [],
   "source": [
    "import pandas as pd\n",
    "import numpy as np\n",
    "\n",
    "import xgboost as xgb\n",
    "\n",
    "import seaborn as sns\n",
    "from matplotlib import pyplot as plt\n",
    "%matplotlib inline\n",
    "\n",
    "from sklearn.model_selection import train_test_split\n",
    "from sklearn.feature_extraction import DictVectorizer\n",
    "from sklearn.metrics import roc_auc_score\n",
    "from sklearn.metrics import mean_squared_error\n",
    "\n",
    "from sklearn.tree import DecisionTreeRegressor\n",
    "from sklearn.tree import export_text\n",
    "\n",
    "from sklearn.ensemble import RandomForestRegressor"
   ]
  },
  {
   "cell_type": "code",
   "execution_count": 141,
   "id": "38017798",
   "metadata": {},
   "outputs": [],
   "source": [
    "df = pd.read_csv(r'/home/zaib/ml-zoomcamp/housing.csv')"
   ]
  },
  {
   "cell_type": "code",
   "execution_count": 142,
   "id": "eb70345c",
   "metadata": {},
   "outputs": [
    {
     "data": {
      "text/html": [
       "<div>\n",
       "<style scoped>\n",
       "    .dataframe tbody tr th:only-of-type {\n",
       "        vertical-align: middle;\n",
       "    }\n",
       "\n",
       "    .dataframe tbody tr th {\n",
       "        vertical-align: top;\n",
       "    }\n",
       "\n",
       "    .dataframe thead th {\n",
       "        text-align: right;\n",
       "    }\n",
       "</style>\n",
       "<table border=\"1\" class=\"dataframe\">\n",
       "  <thead>\n",
       "    <tr style=\"text-align: right;\">\n",
       "      <th></th>\n",
       "      <th>longitude</th>\n",
       "      <th>latitude</th>\n",
       "      <th>housing_median_age</th>\n",
       "      <th>total_rooms</th>\n",
       "      <th>total_bedrooms</th>\n",
       "      <th>population</th>\n",
       "      <th>households</th>\n",
       "      <th>median_income</th>\n",
       "      <th>median_house_value</th>\n",
       "      <th>ocean_proximity</th>\n",
       "    </tr>\n",
       "  </thead>\n",
       "  <tbody>\n",
       "    <tr>\n",
       "      <th>0</th>\n",
       "      <td>-122.23</td>\n",
       "      <td>37.88</td>\n",
       "      <td>41.0</td>\n",
       "      <td>880.0</td>\n",
       "      <td>129.0</td>\n",
       "      <td>322.0</td>\n",
       "      <td>126.0</td>\n",
       "      <td>8.3252</td>\n",
       "      <td>452600.0</td>\n",
       "      <td>NEAR BAY</td>\n",
       "    </tr>\n",
       "    <tr>\n",
       "      <th>1</th>\n",
       "      <td>-122.22</td>\n",
       "      <td>37.86</td>\n",
       "      <td>21.0</td>\n",
       "      <td>7099.0</td>\n",
       "      <td>1106.0</td>\n",
       "      <td>2401.0</td>\n",
       "      <td>1138.0</td>\n",
       "      <td>8.3014</td>\n",
       "      <td>358500.0</td>\n",
       "      <td>NEAR BAY</td>\n",
       "    </tr>\n",
       "    <tr>\n",
       "      <th>2</th>\n",
       "      <td>-122.24</td>\n",
       "      <td>37.85</td>\n",
       "      <td>52.0</td>\n",
       "      <td>1467.0</td>\n",
       "      <td>190.0</td>\n",
       "      <td>496.0</td>\n",
       "      <td>177.0</td>\n",
       "      <td>7.2574</td>\n",
       "      <td>352100.0</td>\n",
       "      <td>NEAR BAY</td>\n",
       "    </tr>\n",
       "    <tr>\n",
       "      <th>3</th>\n",
       "      <td>-122.25</td>\n",
       "      <td>37.85</td>\n",
       "      <td>52.0</td>\n",
       "      <td>1274.0</td>\n",
       "      <td>235.0</td>\n",
       "      <td>558.0</td>\n",
       "      <td>219.0</td>\n",
       "      <td>5.6431</td>\n",
       "      <td>341300.0</td>\n",
       "      <td>NEAR BAY</td>\n",
       "    </tr>\n",
       "    <tr>\n",
       "      <th>4</th>\n",
       "      <td>-122.25</td>\n",
       "      <td>37.85</td>\n",
       "      <td>52.0</td>\n",
       "      <td>1627.0</td>\n",
       "      <td>280.0</td>\n",
       "      <td>565.0</td>\n",
       "      <td>259.0</td>\n",
       "      <td>3.8462</td>\n",
       "      <td>342200.0</td>\n",
       "      <td>NEAR BAY</td>\n",
       "    </tr>\n",
       "  </tbody>\n",
       "</table>\n",
       "</div>"
      ],
      "text/plain": [
       "   longitude  latitude  housing_median_age  total_rooms  total_bedrooms  \\\n",
       "0    -122.23     37.88                41.0        880.0           129.0   \n",
       "1    -122.22     37.86                21.0       7099.0          1106.0   \n",
       "2    -122.24     37.85                52.0       1467.0           190.0   \n",
       "3    -122.25     37.85                52.0       1274.0           235.0   \n",
       "4    -122.25     37.85                52.0       1627.0           280.0   \n",
       "\n",
       "   population  households  median_income  median_house_value ocean_proximity  \n",
       "0       322.0       126.0         8.3252            452600.0        NEAR BAY  \n",
       "1      2401.0      1138.0         8.3014            358500.0        NEAR BAY  \n",
       "2       496.0       177.0         7.2574            352100.0        NEAR BAY  \n",
       "3       558.0       219.0         5.6431            341300.0        NEAR BAY  \n",
       "4       565.0       259.0         3.8462            342200.0        NEAR BAY  "
      ]
     },
     "execution_count": 142,
     "metadata": {},
     "output_type": "execute_result"
    }
   ],
   "source": [
    "df.head()"
   ]
  },
  {
   "cell_type": "markdown",
   "id": "501f2760",
   "metadata": {},
   "source": [
    "**preparing the dataset**"
   ]
  },
  {
   "cell_type": "code",
   "execution_count": 143,
   "id": "2a7f7089",
   "metadata": {},
   "outputs": [],
   "source": [
    "df = df[(df.ocean_proximity == '<1H OCEAN') | \n",
    "        (df.ocean_proximity == 'INLAND')]\n",
    "\n",
    "df = df.fillna(0)\n",
    "\n",
    "df.median_house_value = np.log1p(df.median_house_value)"
   ]
  },
  {
   "cell_type": "code",
   "execution_count": 144,
   "id": "1a6d9ce5",
   "metadata": {},
   "outputs": [],
   "source": [
    "df_full_train, df_test = train_test_split(df, test_size=0.2, random_state=1)\n",
    "df_train, df_val = train_test_split(df_full_train, test_size=0.25, random_state=1)\n",
    "\n",
    "df_train = df_train.reset_index(drop=True)\n",
    "df_val = df_val.reset_index(drop=True)\n",
    "df_test = df_test.reset_index(drop=True)"
   ]
  },
  {
   "cell_type": "code",
   "execution_count": 145,
   "id": "70e38d51",
   "metadata": {},
   "outputs": [],
   "source": [
    "y_full_train = df_full_train.median_house_value.values\n",
    "y_train = df_train.median_house_value.values\n",
    "y_val = df_val.median_house_value.values\n",
    "y_test = df_test.median_house_value.values\n",
    "\n",
    "\n",
    "del df_full_train['median_house_value']\n",
    "del df_train['median_house_value']\n",
    "del df_val['median_house_value']\n",
    "del df_test['median_house_value']"
   ]
  },
  {
   "cell_type": "code",
   "execution_count": 146,
   "id": "90f4f5b0",
   "metadata": {},
   "outputs": [],
   "source": [
    "full_train_dicts = df_full_train.to_dict(orient='records')\n",
    "train_dicts = df_train.to_dict(orient='records')\n",
    "val_dicts = df_val.to_dict(orient='records')\n",
    "test_dicts = df_test.to_dict(orient='records')\n",
    "\n",
    "dv = DictVectorizer(sparse=True)\n",
    "\n",
    "X_train = dv.fit_transform(train_dicts)\n",
    "X_val = dv.transform(val_dicts)\n",
    "X_test = dv.transform(test_dicts)"
   ]
  },
  {
   "cell_type": "markdown",
   "id": "e612cdb5",
   "metadata": {},
   "source": [
    "**question 1**"
   ]
  },
  {
   "cell_type": "code",
   "execution_count": 147,
   "id": "76264310",
   "metadata": {},
   "outputs": [
    {
     "data": {
      "text/html": [
       "<style>#sk-container-id-7 {color: black;}#sk-container-id-7 pre{padding: 0;}#sk-container-id-7 div.sk-toggleable {background-color: white;}#sk-container-id-7 label.sk-toggleable__label {cursor: pointer;display: block;width: 100%;margin-bottom: 0;padding: 0.3em;box-sizing: border-box;text-align: center;}#sk-container-id-7 label.sk-toggleable__label-arrow:before {content: \"▸\";float: left;margin-right: 0.25em;color: #696969;}#sk-container-id-7 label.sk-toggleable__label-arrow:hover:before {color: black;}#sk-container-id-7 div.sk-estimator:hover label.sk-toggleable__label-arrow:before {color: black;}#sk-container-id-7 div.sk-toggleable__content {max-height: 0;max-width: 0;overflow: hidden;text-align: left;background-color: #f0f8ff;}#sk-container-id-7 div.sk-toggleable__content pre {margin: 0.2em;color: black;border-radius: 0.25em;background-color: #f0f8ff;}#sk-container-id-7 input.sk-toggleable__control:checked~div.sk-toggleable__content {max-height: 200px;max-width: 100%;overflow: auto;}#sk-container-id-7 input.sk-toggleable__control:checked~label.sk-toggleable__label-arrow:before {content: \"▾\";}#sk-container-id-7 div.sk-estimator input.sk-toggleable__control:checked~label.sk-toggleable__label {background-color: #d4ebff;}#sk-container-id-7 div.sk-label input.sk-toggleable__control:checked~label.sk-toggleable__label {background-color: #d4ebff;}#sk-container-id-7 input.sk-hidden--visually {border: 0;clip: rect(1px 1px 1px 1px);clip: rect(1px, 1px, 1px, 1px);height: 1px;margin: -1px;overflow: hidden;padding: 0;position: absolute;width: 1px;}#sk-container-id-7 div.sk-estimator {font-family: monospace;background-color: #f0f8ff;border: 1px dotted black;border-radius: 0.25em;box-sizing: border-box;margin-bottom: 0.5em;}#sk-container-id-7 div.sk-estimator:hover {background-color: #d4ebff;}#sk-container-id-7 div.sk-parallel-item::after {content: \"\";width: 100%;border-bottom: 1px solid gray;flex-grow: 1;}#sk-container-id-7 div.sk-label:hover label.sk-toggleable__label {background-color: #d4ebff;}#sk-container-id-7 div.sk-serial::before {content: \"\";position: absolute;border-left: 1px solid gray;box-sizing: border-box;top: 0;bottom: 0;left: 50%;z-index: 0;}#sk-container-id-7 div.sk-serial {display: flex;flex-direction: column;align-items: center;background-color: white;padding-right: 0.2em;padding-left: 0.2em;position: relative;}#sk-container-id-7 div.sk-item {position: relative;z-index: 1;}#sk-container-id-7 div.sk-parallel {display: flex;align-items: stretch;justify-content: center;background-color: white;position: relative;}#sk-container-id-7 div.sk-item::before, #sk-container-id-7 div.sk-parallel-item::before {content: \"\";position: absolute;border-left: 1px solid gray;box-sizing: border-box;top: 0;bottom: 0;left: 50%;z-index: -1;}#sk-container-id-7 div.sk-parallel-item {display: flex;flex-direction: column;z-index: 1;position: relative;background-color: white;}#sk-container-id-7 div.sk-parallel-item:first-child::after {align-self: flex-end;width: 50%;}#sk-container-id-7 div.sk-parallel-item:last-child::after {align-self: flex-start;width: 50%;}#sk-container-id-7 div.sk-parallel-item:only-child::after {width: 0;}#sk-container-id-7 div.sk-dashed-wrapped {border: 1px dashed gray;margin: 0 0.4em 0.5em 0.4em;box-sizing: border-box;padding-bottom: 0.4em;background-color: white;}#sk-container-id-7 div.sk-label label {font-family: monospace;font-weight: bold;display: inline-block;line-height: 1.2em;}#sk-container-id-7 div.sk-label-container {text-align: center;}#sk-container-id-7 div.sk-container {/* jupyter's `normalize.less` sets `[hidden] { display: none; }` but bootstrap.min.css set `[hidden] { display: none !important; }` so we also need the `!important` here to be able to override the default hidden behavior on the sphinx rendered scikit-learn.org. See: https://github.com/scikit-learn/scikit-learn/issues/21755 */display: inline-block !important;position: relative;}#sk-container-id-7 div.sk-text-repr-fallback {display: none;}</style><div id=\"sk-container-id-7\" class=\"sk-top-container\"><div class=\"sk-text-repr-fallback\"><pre>DecisionTreeRegressor(max_depth=1)</pre><b>In a Jupyter environment, please rerun this cell to show the HTML representation or trust the notebook. <br />On GitHub, the HTML representation is unable to render, please try loading this page with nbviewer.org.</b></div><div class=\"sk-container\" hidden><div class=\"sk-item\"><div class=\"sk-estimator sk-toggleable\"><input class=\"sk-toggleable__control sk-hidden--visually\" id=\"sk-estimator-id-7\" type=\"checkbox\" checked><label for=\"sk-estimator-id-7\" class=\"sk-toggleable__label sk-toggleable__label-arrow\">DecisionTreeRegressor</label><div class=\"sk-toggleable__content\"><pre>DecisionTreeRegressor(max_depth=1)</pre></div></div></div></div></div>"
      ],
      "text/plain": [
       "DecisionTreeRegressor(max_depth=1)"
      ]
     },
     "execution_count": 147,
     "metadata": {},
     "output_type": "execute_result"
    }
   ],
   "source": [
    "dt = DecisionTreeRegressor(max_depth=1)\n",
    "dt.fit(X_train, y_train)"
   ]
  },
  {
   "cell_type": "code",
   "execution_count": 148,
   "id": "154a6e9d",
   "metadata": {},
   "outputs": [
    {
     "name": "stdout",
     "output_type": "stream",
     "text": [
      "|--- ocean_proximity=<1H OCEAN <= 0.50\n",
      "|   |--- value: [11.61]\n",
      "|--- ocean_proximity=<1H OCEAN >  0.50\n",
      "|   |--- value: [12.30]\n",
      "\n"
     ]
    }
   ],
   "source": [
    "print(export_text(dt, feature_names=list(dv.get_feature_names_out())))"
   ]
  },
  {
   "cell_type": "markdown",
   "id": "886e0b30",
   "metadata": {},
   "source": [
    "==> ocean_proximity"
   ]
  },
  {
   "cell_type": "markdown",
   "id": "07a89d1b",
   "metadata": {},
   "source": [
    "**question 2**"
   ]
  },
  {
   "cell_type": "code",
   "execution_count": 149,
   "id": "9254e880",
   "metadata": {},
   "outputs": [
    {
     "data": {
      "text/html": [
       "<style>#sk-container-id-8 {color: black;}#sk-container-id-8 pre{padding: 0;}#sk-container-id-8 div.sk-toggleable {background-color: white;}#sk-container-id-8 label.sk-toggleable__label {cursor: pointer;display: block;width: 100%;margin-bottom: 0;padding: 0.3em;box-sizing: border-box;text-align: center;}#sk-container-id-8 label.sk-toggleable__label-arrow:before {content: \"▸\";float: left;margin-right: 0.25em;color: #696969;}#sk-container-id-8 label.sk-toggleable__label-arrow:hover:before {color: black;}#sk-container-id-8 div.sk-estimator:hover label.sk-toggleable__label-arrow:before {color: black;}#sk-container-id-8 div.sk-toggleable__content {max-height: 0;max-width: 0;overflow: hidden;text-align: left;background-color: #f0f8ff;}#sk-container-id-8 div.sk-toggleable__content pre {margin: 0.2em;color: black;border-radius: 0.25em;background-color: #f0f8ff;}#sk-container-id-8 input.sk-toggleable__control:checked~div.sk-toggleable__content {max-height: 200px;max-width: 100%;overflow: auto;}#sk-container-id-8 input.sk-toggleable__control:checked~label.sk-toggleable__label-arrow:before {content: \"▾\";}#sk-container-id-8 div.sk-estimator input.sk-toggleable__control:checked~label.sk-toggleable__label {background-color: #d4ebff;}#sk-container-id-8 div.sk-label input.sk-toggleable__control:checked~label.sk-toggleable__label {background-color: #d4ebff;}#sk-container-id-8 input.sk-hidden--visually {border: 0;clip: rect(1px 1px 1px 1px);clip: rect(1px, 1px, 1px, 1px);height: 1px;margin: -1px;overflow: hidden;padding: 0;position: absolute;width: 1px;}#sk-container-id-8 div.sk-estimator {font-family: monospace;background-color: #f0f8ff;border: 1px dotted black;border-radius: 0.25em;box-sizing: border-box;margin-bottom: 0.5em;}#sk-container-id-8 div.sk-estimator:hover {background-color: #d4ebff;}#sk-container-id-8 div.sk-parallel-item::after {content: \"\";width: 100%;border-bottom: 1px solid gray;flex-grow: 1;}#sk-container-id-8 div.sk-label:hover label.sk-toggleable__label {background-color: #d4ebff;}#sk-container-id-8 div.sk-serial::before {content: \"\";position: absolute;border-left: 1px solid gray;box-sizing: border-box;top: 0;bottom: 0;left: 50%;z-index: 0;}#sk-container-id-8 div.sk-serial {display: flex;flex-direction: column;align-items: center;background-color: white;padding-right: 0.2em;padding-left: 0.2em;position: relative;}#sk-container-id-8 div.sk-item {position: relative;z-index: 1;}#sk-container-id-8 div.sk-parallel {display: flex;align-items: stretch;justify-content: center;background-color: white;position: relative;}#sk-container-id-8 div.sk-item::before, #sk-container-id-8 div.sk-parallel-item::before {content: \"\";position: absolute;border-left: 1px solid gray;box-sizing: border-box;top: 0;bottom: 0;left: 50%;z-index: -1;}#sk-container-id-8 div.sk-parallel-item {display: flex;flex-direction: column;z-index: 1;position: relative;background-color: white;}#sk-container-id-8 div.sk-parallel-item:first-child::after {align-self: flex-end;width: 50%;}#sk-container-id-8 div.sk-parallel-item:last-child::after {align-self: flex-start;width: 50%;}#sk-container-id-8 div.sk-parallel-item:only-child::after {width: 0;}#sk-container-id-8 div.sk-dashed-wrapped {border: 1px dashed gray;margin: 0 0.4em 0.5em 0.4em;box-sizing: border-box;padding-bottom: 0.4em;background-color: white;}#sk-container-id-8 div.sk-label label {font-family: monospace;font-weight: bold;display: inline-block;line-height: 1.2em;}#sk-container-id-8 div.sk-label-container {text-align: center;}#sk-container-id-8 div.sk-container {/* jupyter's `normalize.less` sets `[hidden] { display: none; }` but bootstrap.min.css set `[hidden] { display: none !important; }` so we also need the `!important` here to be able to override the default hidden behavior on the sphinx rendered scikit-learn.org. See: https://github.com/scikit-learn/scikit-learn/issues/21755 */display: inline-block !important;position: relative;}#sk-container-id-8 div.sk-text-repr-fallback {display: none;}</style><div id=\"sk-container-id-8\" class=\"sk-top-container\"><div class=\"sk-text-repr-fallback\"><pre>RandomForestRegressor(n_estimators=10, n_jobs=-1, random_state=1)</pre><b>In a Jupyter environment, please rerun this cell to show the HTML representation or trust the notebook. <br />On GitHub, the HTML representation is unable to render, please try loading this page with nbviewer.org.</b></div><div class=\"sk-container\" hidden><div class=\"sk-item\"><div class=\"sk-estimator sk-toggleable\"><input class=\"sk-toggleable__control sk-hidden--visually\" id=\"sk-estimator-id-8\" type=\"checkbox\" checked><label for=\"sk-estimator-id-8\" class=\"sk-toggleable__label sk-toggleable__label-arrow\">RandomForestRegressor</label><div class=\"sk-toggleable__content\"><pre>RandomForestRegressor(n_estimators=10, n_jobs=-1, random_state=1)</pre></div></div></div></div></div>"
      ],
      "text/plain": [
       "RandomForestRegressor(n_estimators=10, n_jobs=-1, random_state=1)"
      ]
     },
     "execution_count": 149,
     "metadata": {},
     "output_type": "execute_result"
    }
   ],
   "source": [
    "rf = RandomForestRegressor(n_estimators=10, random_state=1, n_jobs=-1)\n",
    "rf.fit(X_train, y_train)"
   ]
  },
  {
   "cell_type": "code",
   "execution_count": 150,
   "id": "9d5fcf49",
   "metadata": {},
   "outputs": [],
   "source": [
    "y_pred = rf.predict(X_val)"
   ]
  },
  {
   "cell_type": "code",
   "execution_count": 151,
   "id": "83c38121",
   "metadata": {},
   "outputs": [
    {
     "data": {
      "text/plain": [
       "0.2449529003059715"
      ]
     },
     "execution_count": 151,
     "metadata": {},
     "output_type": "execute_result"
    }
   ],
   "source": [
    "rmse = np.sqrt((mean_squared_error(y_val, y_pred)))\n",
    "rmse"
   ]
  },
  {
   "cell_type": "markdown",
   "id": "94eaa7b1",
   "metadata": {},
   "source": [
    "==> 0.245"
   ]
  },
  {
   "cell_type": "markdown",
   "id": "54d6fb03",
   "metadata": {},
   "source": [
    "**question 3**"
   ]
  },
  {
   "cell_type": "code",
   "execution_count": 152,
   "id": "7c9813fa",
   "metadata": {},
   "outputs": [
    {
     "name": "stdout",
     "output_type": "stream",
     "text": [
      " 10 -> 0.245\n",
      " 20 -> 0.238\n",
      " 30 -> 0.237\n",
      " 40 -> 0.235\n",
      " 50 -> 0.235\n",
      " 60 -> 0.235\n",
      " 70 -> 0.234\n",
      " 80 -> 0.235\n",
      " 90 -> 0.234\n",
      "100 -> 0.234\n",
      "110 -> 0.234\n",
      "120 -> 0.234\n",
      "130 -> 0.234\n",
      "140 -> 0.234\n",
      "150 -> 0.234\n",
      "160 -> 0.233\n",
      "170 -> 0.233\n",
      "180 -> 0.234\n",
      "190 -> 0.234\n",
      "200 -> 0.234\n"
     ]
    }
   ],
   "source": [
    "for n in range(10, 201, 10):\n",
    "    rf = RandomForestRegressor(n_estimators=n, random_state=1, \n",
    "                               n_jobs=-1)\n",
    "    rf.fit(X_train, y_train)\n",
    "    \n",
    "    y_pred = rf.predict(X_val)\n",
    "    \n",
    "    rmse = np.sqrt((mean_squared_error(y_val, y_pred)))\n",
    "    \n",
    "    print(('%3s -> %.3f') % (n, rmse))"
   ]
  },
  {
   "cell_type": "markdown",
   "id": "bc60baa0",
   "metadata": {},
   "source": [
    "==> n_estimators = 10"
   ]
  },
  {
   "cell_type": "markdown",
   "id": "ed93f005",
   "metadata": {},
   "source": [
    "**question 4**"
   ]
  },
  {
   "cell_type": "code",
   "execution_count": 153,
   "id": "2b016407",
   "metadata": {},
   "outputs": [],
   "source": [
    "scores = []\n",
    "\n",
    "for d in [10, 15, 20, 25]:\n",
    "    for n in range(10, 201, 10):\n",
    "        rf = RandomForestRegressor(n_estimators=n, max_depth=d, \n",
    "                                   random_state=1, \n",
    "                                   n_jobs=-1)\n",
    "        rf.fit(X_train, y_train)\n",
    "\n",
    "        y_pred = rf.predict(X_val)\n",
    "\n",
    "        rmse = np.sqrt((mean_squared_error(y_val, y_pred)))\n",
    "\n",
    "        scores.append((d, n, rmse))\n",
    "        \n",
    "columns = ['max_depth', 'n_estimators', 'rmse']\n",
    "df_scores = pd.DataFrame(scores, columns=columns)"
   ]
  },
  {
   "cell_type": "code",
   "execution_count": 154,
   "id": "520d8c61",
   "metadata": {},
   "outputs": [
    {
     "data": {
      "text/html": [
       "<div>\n",
       "<style scoped>\n",
       "    .dataframe tbody tr th:only-of-type {\n",
       "        vertical-align: middle;\n",
       "    }\n",
       "\n",
       "    .dataframe tbody tr th {\n",
       "        vertical-align: top;\n",
       "    }\n",
       "\n",
       "    .dataframe thead th {\n",
       "        text-align: right;\n",
       "    }\n",
       "</style>\n",
       "<table border=\"1\" class=\"dataframe\">\n",
       "  <thead>\n",
       "    <tr style=\"text-align: right;\">\n",
       "      <th></th>\n",
       "      <th>max_depth</th>\n",
       "      <th>n_estimators</th>\n",
       "      <th>rmse</th>\n",
       "    </tr>\n",
       "  </thead>\n",
       "  <tbody>\n",
       "    <tr>\n",
       "      <th>0</th>\n",
       "      <td>10</td>\n",
       "      <td>10</td>\n",
       "      <td>0.250682</td>\n",
       "    </tr>\n",
       "    <tr>\n",
       "      <th>1</th>\n",
       "      <td>10</td>\n",
       "      <td>20</td>\n",
       "      <td>0.247455</td>\n",
       "    </tr>\n",
       "    <tr>\n",
       "      <th>2</th>\n",
       "      <td>10</td>\n",
       "      <td>30</td>\n",
       "      <td>0.246264</td>\n",
       "    </tr>\n",
       "    <tr>\n",
       "      <th>20</th>\n",
       "      <td>15</td>\n",
       "      <td>10</td>\n",
       "      <td>0.245727</td>\n",
       "    </tr>\n",
       "    <tr>\n",
       "      <th>7</th>\n",
       "      <td>10</td>\n",
       "      <td>80</td>\n",
       "      <td>0.245536</td>\n",
       "    </tr>\n",
       "    <tr>\n",
       "      <th>...</th>\n",
       "      <td>...</td>\n",
       "      <td>...</td>\n",
       "      <td>...</td>\n",
       "    </tr>\n",
       "    <tr>\n",
       "      <th>73</th>\n",
       "      <td>25</td>\n",
       "      <td>140</td>\n",
       "      <td>0.233635</td>\n",
       "    </tr>\n",
       "    <tr>\n",
       "      <th>77</th>\n",
       "      <td>25</td>\n",
       "      <td>180</td>\n",
       "      <td>0.233572</td>\n",
       "    </tr>\n",
       "    <tr>\n",
       "      <th>74</th>\n",
       "      <td>25</td>\n",
       "      <td>150</td>\n",
       "      <td>0.233535</td>\n",
       "    </tr>\n",
       "    <tr>\n",
       "      <th>75</th>\n",
       "      <td>25</td>\n",
       "      <td>160</td>\n",
       "      <td>0.233395</td>\n",
       "    </tr>\n",
       "    <tr>\n",
       "      <th>76</th>\n",
       "      <td>25</td>\n",
       "      <td>170</td>\n",
       "      <td>0.233390</td>\n",
       "    </tr>\n",
       "  </tbody>\n",
       "</table>\n",
       "<p>80 rows × 3 columns</p>\n",
       "</div>"
      ],
      "text/plain": [
       "    max_depth  n_estimators      rmse\n",
       "0          10            10  0.250682\n",
       "1          10            20  0.247455\n",
       "2          10            30  0.246264\n",
       "20         15            10  0.245727\n",
       "7          10            80  0.245536\n",
       "..        ...           ...       ...\n",
       "73         25           140  0.233635\n",
       "77         25           180  0.233572\n",
       "74         25           150  0.233535\n",
       "75         25           160  0.233395\n",
       "76         25           170  0.233390\n",
       "\n",
       "[80 rows x 3 columns]"
      ]
     },
     "execution_count": 154,
     "metadata": {},
     "output_type": "execute_result"
    }
   ],
   "source": [
    "df_scores.sort_values(by='rmse', ascending=False)"
   ]
  },
  {
   "cell_type": "markdown",
   "id": "7cc2d549",
   "metadata": {},
   "source": [
    "==> best max_depth = 10"
   ]
  },
  {
   "cell_type": "markdown",
   "id": "45337307",
   "metadata": {},
   "source": [
    "**question 5**"
   ]
  },
  {
   "cell_type": "code",
   "execution_count": 155,
   "id": "fbd0009c",
   "metadata": {},
   "outputs": [
    {
     "data": {
      "text/html": [
       "<style>#sk-container-id-9 {color: black;}#sk-container-id-9 pre{padding: 0;}#sk-container-id-9 div.sk-toggleable {background-color: white;}#sk-container-id-9 label.sk-toggleable__label {cursor: pointer;display: block;width: 100%;margin-bottom: 0;padding: 0.3em;box-sizing: border-box;text-align: center;}#sk-container-id-9 label.sk-toggleable__label-arrow:before {content: \"▸\";float: left;margin-right: 0.25em;color: #696969;}#sk-container-id-9 label.sk-toggleable__label-arrow:hover:before {color: black;}#sk-container-id-9 div.sk-estimator:hover label.sk-toggleable__label-arrow:before {color: black;}#sk-container-id-9 div.sk-toggleable__content {max-height: 0;max-width: 0;overflow: hidden;text-align: left;background-color: #f0f8ff;}#sk-container-id-9 div.sk-toggleable__content pre {margin: 0.2em;color: black;border-radius: 0.25em;background-color: #f0f8ff;}#sk-container-id-9 input.sk-toggleable__control:checked~div.sk-toggleable__content {max-height: 200px;max-width: 100%;overflow: auto;}#sk-container-id-9 input.sk-toggleable__control:checked~label.sk-toggleable__label-arrow:before {content: \"▾\";}#sk-container-id-9 div.sk-estimator input.sk-toggleable__control:checked~label.sk-toggleable__label {background-color: #d4ebff;}#sk-container-id-9 div.sk-label input.sk-toggleable__control:checked~label.sk-toggleable__label {background-color: #d4ebff;}#sk-container-id-9 input.sk-hidden--visually {border: 0;clip: rect(1px 1px 1px 1px);clip: rect(1px, 1px, 1px, 1px);height: 1px;margin: -1px;overflow: hidden;padding: 0;position: absolute;width: 1px;}#sk-container-id-9 div.sk-estimator {font-family: monospace;background-color: #f0f8ff;border: 1px dotted black;border-radius: 0.25em;box-sizing: border-box;margin-bottom: 0.5em;}#sk-container-id-9 div.sk-estimator:hover {background-color: #d4ebff;}#sk-container-id-9 div.sk-parallel-item::after {content: \"\";width: 100%;border-bottom: 1px solid gray;flex-grow: 1;}#sk-container-id-9 div.sk-label:hover label.sk-toggleable__label {background-color: #d4ebff;}#sk-container-id-9 div.sk-serial::before {content: \"\";position: absolute;border-left: 1px solid gray;box-sizing: border-box;top: 0;bottom: 0;left: 50%;z-index: 0;}#sk-container-id-9 div.sk-serial {display: flex;flex-direction: column;align-items: center;background-color: white;padding-right: 0.2em;padding-left: 0.2em;position: relative;}#sk-container-id-9 div.sk-item {position: relative;z-index: 1;}#sk-container-id-9 div.sk-parallel {display: flex;align-items: stretch;justify-content: center;background-color: white;position: relative;}#sk-container-id-9 div.sk-item::before, #sk-container-id-9 div.sk-parallel-item::before {content: \"\";position: absolute;border-left: 1px solid gray;box-sizing: border-box;top: 0;bottom: 0;left: 50%;z-index: -1;}#sk-container-id-9 div.sk-parallel-item {display: flex;flex-direction: column;z-index: 1;position: relative;background-color: white;}#sk-container-id-9 div.sk-parallel-item:first-child::after {align-self: flex-end;width: 50%;}#sk-container-id-9 div.sk-parallel-item:last-child::after {align-self: flex-start;width: 50%;}#sk-container-id-9 div.sk-parallel-item:only-child::after {width: 0;}#sk-container-id-9 div.sk-dashed-wrapped {border: 1px dashed gray;margin: 0 0.4em 0.5em 0.4em;box-sizing: border-box;padding-bottom: 0.4em;background-color: white;}#sk-container-id-9 div.sk-label label {font-family: monospace;font-weight: bold;display: inline-block;line-height: 1.2em;}#sk-container-id-9 div.sk-label-container {text-align: center;}#sk-container-id-9 div.sk-container {/* jupyter's `normalize.less` sets `[hidden] { display: none; }` but bootstrap.min.css set `[hidden] { display: none !important; }` so we also need the `!important` here to be able to override the default hidden behavior on the sphinx rendered scikit-learn.org. See: https://github.com/scikit-learn/scikit-learn/issues/21755 */display: inline-block !important;position: relative;}#sk-container-id-9 div.sk-text-repr-fallback {display: none;}</style><div id=\"sk-container-id-9\" class=\"sk-top-container\"><div class=\"sk-text-repr-fallback\"><pre>RandomForestRegressor(max_depth=20, n_estimators=10, n_jobs=-1, random_state=1)</pre><b>In a Jupyter environment, please rerun this cell to show the HTML representation or trust the notebook. <br />On GitHub, the HTML representation is unable to render, please try loading this page with nbviewer.org.</b></div><div class=\"sk-container\" hidden><div class=\"sk-item\"><div class=\"sk-estimator sk-toggleable\"><input class=\"sk-toggleable__control sk-hidden--visually\" id=\"sk-estimator-id-9\" type=\"checkbox\" checked><label for=\"sk-estimator-id-9\" class=\"sk-toggleable__label sk-toggleable__label-arrow\">RandomForestRegressor</label><div class=\"sk-toggleable__content\"><pre>RandomForestRegressor(max_depth=20, n_estimators=10, n_jobs=-1, random_state=1)</pre></div></div></div></div></div>"
      ],
      "text/plain": [
       "RandomForestRegressor(max_depth=20, n_estimators=10, n_jobs=-1, random_state=1)"
      ]
     },
     "execution_count": 155,
     "metadata": {},
     "output_type": "execute_result"
    }
   ],
   "source": [
    "n_estimators=10\n",
    "max_depth=20\n",
    "\n",
    "rf = RandomForestRegressor(n_estimators=n_estimators, \n",
    "                           max_depth=max_depth, \n",
    "                           random_state=1, \n",
    "                           n_jobs=-1)\n",
    "\n",
    "\n",
    "rf.fit(X_train, y_train)"
   ]
  },
  {
   "cell_type": "code",
   "execution_count": 156,
   "id": "c1b13096",
   "metadata": {},
   "outputs": [
    {
     "data": {
      "text/plain": [
       "array([0.01495348, 0.03019435, 0.10189142, 0.0861758 , 0.33566849,\n",
       "       0.29247297, 0.07380644, 0.02682069, 0.01624481, 0.02177155])"
      ]
     },
     "execution_count": 156,
     "metadata": {},
     "output_type": "execute_result"
    }
   ],
   "source": [
    "impurities = rf.feature_importances_\n",
    "impurities"
   ]
  },
  {
   "cell_type": "code",
   "execution_count": 157,
   "id": "133b85f0",
   "metadata": {},
   "outputs": [
    {
     "data": {
      "text/plain": [
       "4"
      ]
     },
     "execution_count": 157,
     "metadata": {},
     "output_type": "execute_result"
    }
   ],
   "source": [
    "list(impurities).index(max(impurities))"
   ]
  },
  {
   "cell_type": "code",
   "execution_count": 175,
   "id": "a68a48c3",
   "metadata": {},
   "outputs": [
    {
     "data": {
      "text/plain": [
       "['households',\n",
       " 'housing_median_age',\n",
       " 'latitude',\n",
       " 'longitude',\n",
       " 'median_income',\n",
       " 'ocean_proximity=<1H OCEAN',\n",
       " 'ocean_proximity=INLAND',\n",
       " 'population',\n",
       " 'total_bedrooms',\n",
       " 'total_rooms']"
      ]
     },
     "execution_count": 175,
     "metadata": {},
     "output_type": "execute_result"
    }
   ],
   "source": [
    "list(dv.get_feature_names_out())"
   ]
  },
  {
   "cell_type": "markdown",
   "id": "c3c04b51",
   "metadata": {},
   "source": [
    "==> tmedian_income is the most important feature"
   ]
  },
  {
   "cell_type": "markdown",
   "id": "2a5e0ff7",
   "metadata": {},
   "source": [
    "**question 6**"
   ]
  },
  {
   "cell_type": "markdown",
   "id": "f4e5cdbd",
   "metadata": {},
   "source": [
    "xgboost is already installed\n",
    "\n",
    "the comand to do it in the notebook is:\n",
    "\n",
    "!pip install xgboost \n",
    "\n",
    "then one must exectute the following line to use it:\n",
    "\n",
    "import xgboost as xgb"
   ]
  },
  {
   "cell_type": "code",
   "execution_count": 168,
   "id": "969bd66e",
   "metadata": {},
   "outputs": [],
   "source": [
    "features = list(dv.get_feature_names_out())\n",
    "features[5] = features[5].replace('=<', '_less_than_or_equal_to_')"
   ]
  },
  {
   "cell_type": "code",
   "execution_count": 169,
   "id": "251c4ca0",
   "metadata": {},
   "outputs": [],
   "source": [
    "dtrain = xgb.DMatrix(X_train, label=y_train, feature_names=features)\n",
    "dval = xgb.DMatrix(X_val, label=y_val, feature_names=features)"
   ]
  },
  {
   "cell_type": "code",
   "execution_count": 170,
   "id": "aa80fa33",
   "metadata": {},
   "outputs": [],
   "source": [
    "watchlist = [(dtrain, 'train'), (dval, 'val')]"
   ]
  },
  {
   "cell_type": "code",
   "execution_count": 171,
   "id": "156ca608",
   "metadata": {},
   "outputs": [
    {
     "name": "stdout",
     "output_type": "stream",
     "text": [
      "[0]\ttrain-rmse:0.44350\tval-rmse:0.44250\n",
      "[1]\ttrain-rmse:0.36599\tval-rmse:0.36916\n",
      "[2]\ttrain-rmse:0.31556\tval-rmse:0.32382\n",
      "[3]\ttrain-rmse:0.28541\tval-rmse:0.29965\n",
      "[4]\ttrain-rmse:0.26573\tval-rmse:0.28417\n",
      "[5]\ttrain-rmse:0.25338\tval-rmse:0.27463\n",
      "[6]\ttrain-rmse:0.24157\tval-rmse:0.26770\n",
      "[7]\ttrain-rmse:0.23486\tval-rmse:0.26423\n",
      "[8]\ttrain-rmse:0.22668\tval-rmse:0.25820\n",
      "[9]\ttrain-rmse:0.21995\tval-rmse:0.25444\n",
      "[10]\ttrain-rmse:0.21444\tval-rmse:0.25179\n",
      "[11]\ttrain-rmse:0.21155\tval-rmse:0.25054\n",
      "[12]\ttrain-rmse:0.20729\tval-rmse:0.24791\n",
      "[13]\ttrain-rmse:0.20317\tval-rmse:0.24628\n",
      "[14]\ttrain-rmse:0.20135\tval-rmse:0.24630\n",
      "[15]\ttrain-rmse:0.19858\tval-rmse:0.24522\n",
      "[16]\ttrain-rmse:0.19580\tval-rmse:0.24445\n",
      "[17]\ttrain-rmse:0.19333\tval-rmse:0.24395\n",
      "[18]\ttrain-rmse:0.19107\tval-rmse:0.24284\n",
      "[19]\ttrain-rmse:0.18735\tval-rmse:0.24127\n",
      "[20]\ttrain-rmse:0.18524\tval-rmse:0.23978\n",
      "[21]\ttrain-rmse:0.18332\tval-rmse:0.23963\n",
      "[22]\ttrain-rmse:0.18189\tval-rmse:0.23892\n",
      "[23]\ttrain-rmse:0.18006\tval-rmse:0.23847\n",
      "[24]\ttrain-rmse:0.17869\tval-rmse:0.23847\n",
      "[25]\ttrain-rmse:0.17757\tval-rmse:0.23830\n",
      "[26]\ttrain-rmse:0.17520\tval-rmse:0.23862\n",
      "[27]\ttrain-rmse:0.17430\tval-rmse:0.23807\n",
      "[28]\ttrain-rmse:0.17281\tval-rmse:0.23793\n",
      "[29]\ttrain-rmse:0.17091\tval-rmse:0.23683\n",
      "[30]\ttrain-rmse:0.16888\tval-rmse:0.23570\n",
      "[31]\ttrain-rmse:0.16727\tval-rmse:0.23505\n",
      "[32]\ttrain-rmse:0.16553\tval-rmse:0.23494\n",
      "[33]\ttrain-rmse:0.16453\tval-rmse:0.23476\n",
      "[34]\ttrain-rmse:0.16292\tval-rmse:0.23490\n",
      "[35]\ttrain-rmse:0.16113\tval-rmse:0.23416\n",
      "[36]\ttrain-rmse:0.15969\tval-rmse:0.23402\n",
      "[37]\ttrain-rmse:0.15859\tval-rmse:0.23362\n",
      "[38]\ttrain-rmse:0.15726\tval-rmse:0.23393\n",
      "[39]\ttrain-rmse:0.15663\tval-rmse:0.23383\n",
      "[40]\ttrain-rmse:0.15542\tval-rmse:0.23318\n",
      "[41]\ttrain-rmse:0.15426\tval-rmse:0.23300\n",
      "[42]\ttrain-rmse:0.15289\tval-rmse:0.23266\n",
      "[43]\ttrain-rmse:0.15189\tval-rmse:0.23252\n",
      "[44]\ttrain-rmse:0.15092\tval-rmse:0.23252\n",
      "[45]\ttrain-rmse:0.14941\tval-rmse:0.23190\n",
      "[46]\ttrain-rmse:0.14856\tval-rmse:0.23178\n",
      "[47]\ttrain-rmse:0.14742\tval-rmse:0.23183\n",
      "[48]\ttrain-rmse:0.14683\tval-rmse:0.23198\n",
      "[49]\ttrain-rmse:0.14629\tval-rmse:0.23206\n",
      "[50]\ttrain-rmse:0.14536\tval-rmse:0.23225\n",
      "[51]\ttrain-rmse:0.14450\tval-rmse:0.23225\n",
      "[52]\ttrain-rmse:0.14353\tval-rmse:0.23223\n",
      "[53]\ttrain-rmse:0.14276\tval-rmse:0.23199\n",
      "[54]\ttrain-rmse:0.14180\tval-rmse:0.23194\n",
      "[55]\ttrain-rmse:0.14150\tval-rmse:0.23197\n",
      "[56]\ttrain-rmse:0.14085\tval-rmse:0.23189\n",
      "[57]\ttrain-rmse:0.14020\tval-rmse:0.23177\n",
      "[58]\ttrain-rmse:0.13931\tval-rmse:0.23175\n",
      "[59]\ttrain-rmse:0.13816\tval-rmse:0.23148\n",
      "[60]\ttrain-rmse:0.13719\tval-rmse:0.23139\n",
      "[61]\ttrain-rmse:0.13640\tval-rmse:0.23179\n",
      "[62]\ttrain-rmse:0.13566\tval-rmse:0.23160\n",
      "[63]\ttrain-rmse:0.13439\tval-rmse:0.23151\n",
      "[64]\ttrain-rmse:0.13358\tval-rmse:0.23153\n",
      "[65]\ttrain-rmse:0.13259\tval-rmse:0.23158\n",
      "[66]\ttrain-rmse:0.13197\tval-rmse:0.23144\n",
      "[67]\ttrain-rmse:0.13175\tval-rmse:0.23148\n",
      "[68]\ttrain-rmse:0.13117\tval-rmse:0.23148\n",
      "[69]\ttrain-rmse:0.13046\tval-rmse:0.23137\n",
      "[70]\ttrain-rmse:0.12943\tval-rmse:0.23068\n",
      "[71]\ttrain-rmse:0.12894\tval-rmse:0.23064\n",
      "[72]\ttrain-rmse:0.12854\tval-rmse:0.23082\n",
      "[73]\ttrain-rmse:0.12741\tval-rmse:0.23059\n",
      "[74]\ttrain-rmse:0.12635\tval-rmse:0.23048\n",
      "[75]\ttrain-rmse:0.12555\tval-rmse:0.23039\n",
      "[76]\ttrain-rmse:0.12395\tval-rmse:0.22935\n",
      "[77]\ttrain-rmse:0.12342\tval-rmse:0.22941\n",
      "[78]\ttrain-rmse:0.12255\tval-rmse:0.22913\n",
      "[79]\ttrain-rmse:0.12220\tval-rmse:0.22889\n",
      "[80]\ttrain-rmse:0.12192\tval-rmse:0.22886\n",
      "[81]\ttrain-rmse:0.12126\tval-rmse:0.22903\n",
      "[82]\ttrain-rmse:0.12056\tval-rmse:0.22891\n",
      "[83]\ttrain-rmse:0.11995\tval-rmse:0.22885\n",
      "[84]\ttrain-rmse:0.11922\tval-rmse:0.22893\n",
      "[85]\ttrain-rmse:0.11854\tval-rmse:0.22888\n",
      "[86]\ttrain-rmse:0.11781\tval-rmse:0.22899\n",
      "[87]\ttrain-rmse:0.11692\tval-rmse:0.22908\n",
      "[88]\ttrain-rmse:0.11613\tval-rmse:0.22905\n",
      "[89]\ttrain-rmse:0.11557\tval-rmse:0.22886\n",
      "[90]\ttrain-rmse:0.11496\tval-rmse:0.22861\n",
      "[91]\ttrain-rmse:0.11461\tval-rmse:0.22874\n",
      "[92]\ttrain-rmse:0.11386\tval-rmse:0.22887\n",
      "[93]\ttrain-rmse:0.11342\tval-rmse:0.22895\n",
      "[94]\ttrain-rmse:0.11281\tval-rmse:0.22904\n",
      "[95]\ttrain-rmse:0.11211\tval-rmse:0.22908\n",
      "[96]\ttrain-rmse:0.11139\tval-rmse:0.22875\n",
      "[97]\ttrain-rmse:0.11089\tval-rmse:0.22864\n",
      "[98]\ttrain-rmse:0.11041\tval-rmse:0.22868\n",
      "[99]\ttrain-rmse:0.10989\tval-rmse:0.22862\n"
     ]
    }
   ],
   "source": [
    "xgb_params = {\n",
    "    'eta': 0.3, \n",
    "    'max_depth': 6,\n",
    "    'min_child_weight': 1,\n",
    "    \n",
    "    'objective': 'reg:squarederror',\n",
    "    'nthread': 8,\n",
    "    \n",
    "    'seed': 1,\n",
    "    'verbosity': 1,\n",
    "}\n",
    "\n",
    "model = xgb.train(xgb_params, dtrain, num_boost_round=100, \n",
    "                  evals=watchlist)\n",
    "\n",
    "y_pred = model.predict(dval)"
   ]
  },
  {
   "cell_type": "code",
   "execution_count": 172,
   "id": "625f0036",
   "metadata": {},
   "outputs": [
    {
     "data": {
      "text/plain": [
       "0.228623199980106"
      ]
     },
     "execution_count": 172,
     "metadata": {},
     "output_type": "execute_result"
    }
   ],
   "source": [
    "rmse = np.sqrt((mean_squared_error(y_val, y_pred)))\n",
    "rmse"
   ]
  },
  {
   "cell_type": "code",
   "execution_count": 173,
   "id": "5ac11bf9",
   "metadata": {},
   "outputs": [
    {
     "name": "stdout",
     "output_type": "stream",
     "text": [
      "[0]\ttrain-rmse:0.52449\tval-rmse:0.52045\n",
      "[1]\ttrain-rmse:0.48736\tval-rmse:0.48443\n",
      "[2]\ttrain-rmse:0.45433\tval-rmse:0.45293\n",
      "[3]\ttrain-rmse:0.42533\tval-rmse:0.42550\n",
      "[4]\ttrain-rmse:0.39987\tval-rmse:0.40144\n",
      "[5]\ttrain-rmse:0.37822\tval-rmse:0.38151\n",
      "[6]\ttrain-rmse:0.35887\tval-rmse:0.36393\n",
      "[7]\ttrain-rmse:0.34177\tval-rmse:0.34838\n",
      "[8]\ttrain-rmse:0.32701\tval-rmse:0.33492\n",
      "[9]\ttrain-rmse:0.31411\tval-rmse:0.32333\n",
      "[10]\ttrain-rmse:0.30326\tval-rmse:0.31427\n",
      "[11]\ttrain-rmse:0.29355\tval-rmse:0.30615\n",
      "[12]\ttrain-rmse:0.28519\tval-rmse:0.29922\n",
      "[13]\ttrain-rmse:0.27760\tval-rmse:0.29269\n",
      "[14]\ttrain-rmse:0.27116\tval-rmse:0.28796\n",
      "[15]\ttrain-rmse:0.26538\tval-rmse:0.28380\n",
      "[16]\ttrain-rmse:0.26012\tval-rmse:0.27970\n",
      "[17]\ttrain-rmse:0.25583\tval-rmse:0.27661\n",
      "[18]\ttrain-rmse:0.25203\tval-rmse:0.27388\n",
      "[19]\ttrain-rmse:0.24818\tval-rmse:0.27123\n",
      "[20]\ttrain-rmse:0.24512\tval-rmse:0.26882\n",
      "[21]\ttrain-rmse:0.24149\tval-rmse:0.26669\n",
      "[22]\ttrain-rmse:0.23895\tval-rmse:0.26478\n",
      "[23]\ttrain-rmse:0.23594\tval-rmse:0.26331\n",
      "[24]\ttrain-rmse:0.23305\tval-rmse:0.26141\n",
      "[25]\ttrain-rmse:0.23026\tval-rmse:0.25997\n",
      "[26]\ttrain-rmse:0.22720\tval-rmse:0.25799\n",
      "[27]\ttrain-rmse:0.22487\tval-rmse:0.25620\n",
      "[28]\ttrain-rmse:0.22268\tval-rmse:0.25494\n",
      "[29]\ttrain-rmse:0.22084\tval-rmse:0.25374\n",
      "[30]\ttrain-rmse:0.21887\tval-rmse:0.25266\n",
      "[31]\ttrain-rmse:0.21709\tval-rmse:0.25172\n",
      "[32]\ttrain-rmse:0.21505\tval-rmse:0.25075\n",
      "[33]\ttrain-rmse:0.21342\tval-rmse:0.24991\n",
      "[34]\ttrain-rmse:0.21168\tval-rmse:0.24882\n",
      "[35]\ttrain-rmse:0.21020\tval-rmse:0.24826\n",
      "[36]\ttrain-rmse:0.20878\tval-rmse:0.24779\n",
      "[37]\ttrain-rmse:0.20755\tval-rmse:0.24731\n",
      "[38]\ttrain-rmse:0.20625\tval-rmse:0.24668\n",
      "[39]\ttrain-rmse:0.20518\tval-rmse:0.24624\n",
      "[40]\ttrain-rmse:0.20392\tval-rmse:0.24539\n",
      "[41]\ttrain-rmse:0.20285\tval-rmse:0.24501\n",
      "[42]\ttrain-rmse:0.20172\tval-rmse:0.24435\n",
      "[43]\ttrain-rmse:0.20045\tval-rmse:0.24380\n",
      "[44]\ttrain-rmse:0.19900\tval-rmse:0.24311\n",
      "[45]\ttrain-rmse:0.19814\tval-rmse:0.24293\n",
      "[46]\ttrain-rmse:0.19628\tval-rmse:0.24184\n",
      "[47]\ttrain-rmse:0.19561\tval-rmse:0.24159\n",
      "[48]\ttrain-rmse:0.19464\tval-rmse:0.24131\n",
      "[49]\ttrain-rmse:0.19371\tval-rmse:0.24109\n",
      "[50]\ttrain-rmse:0.19215\tval-rmse:0.24020\n",
      "[51]\ttrain-rmse:0.19156\tval-rmse:0.24015\n",
      "[52]\ttrain-rmse:0.19059\tval-rmse:0.23979\n",
      "[53]\ttrain-rmse:0.18985\tval-rmse:0.23958\n",
      "[54]\ttrain-rmse:0.18931\tval-rmse:0.23930\n",
      "[55]\ttrain-rmse:0.18809\tval-rmse:0.23878\n",
      "[56]\ttrain-rmse:0.18734\tval-rmse:0.23853\n",
      "[57]\ttrain-rmse:0.18681\tval-rmse:0.23849\n",
      "[58]\ttrain-rmse:0.18623\tval-rmse:0.23836\n",
      "[59]\ttrain-rmse:0.18561\tval-rmse:0.23835\n",
      "[60]\ttrain-rmse:0.18457\tval-rmse:0.23791\n",
      "[61]\ttrain-rmse:0.18363\tval-rmse:0.23783\n",
      "[62]\ttrain-rmse:0.18310\tval-rmse:0.23788\n",
      "[63]\ttrain-rmse:0.18209\tval-rmse:0.23755\n",
      "[64]\ttrain-rmse:0.18150\tval-rmse:0.23735\n",
      "[65]\ttrain-rmse:0.18063\tval-rmse:0.23698\n",
      "[66]\ttrain-rmse:0.17998\tval-rmse:0.23681\n",
      "[67]\ttrain-rmse:0.17913\tval-rmse:0.23646\n",
      "[68]\ttrain-rmse:0.17843\tval-rmse:0.23628\n",
      "[69]\ttrain-rmse:0.17798\tval-rmse:0.23627\n",
      "[70]\ttrain-rmse:0.17741\tval-rmse:0.23622\n",
      "[71]\ttrain-rmse:0.17685\tval-rmse:0.23607\n",
      "[72]\ttrain-rmse:0.17617\tval-rmse:0.23584\n",
      "[73]\ttrain-rmse:0.17557\tval-rmse:0.23562\n",
      "[74]\ttrain-rmse:0.17522\tval-rmse:0.23537\n",
      "[75]\ttrain-rmse:0.17468\tval-rmse:0.23510\n",
      "[76]\ttrain-rmse:0.17432\tval-rmse:0.23503\n",
      "[77]\ttrain-rmse:0.17395\tval-rmse:0.23494\n",
      "[78]\ttrain-rmse:0.17334\tval-rmse:0.23482\n",
      "[79]\ttrain-rmse:0.17287\tval-rmse:0.23467\n",
      "[80]\ttrain-rmse:0.17242\tval-rmse:0.23453\n",
      "[81]\ttrain-rmse:0.17213\tval-rmse:0.23447\n",
      "[82]\ttrain-rmse:0.17139\tval-rmse:0.23431\n",
      "[83]\ttrain-rmse:0.17105\tval-rmse:0.23428\n",
      "[84]\ttrain-rmse:0.17063\tval-rmse:0.23413\n",
      "[85]\ttrain-rmse:0.17014\tval-rmse:0.23404\n",
      "[86]\ttrain-rmse:0.16966\tval-rmse:0.23401\n",
      "[87]\ttrain-rmse:0.16916\tval-rmse:0.23388\n",
      "[88]\ttrain-rmse:0.16882\tval-rmse:0.23364\n",
      "[89]\ttrain-rmse:0.16835\tval-rmse:0.23339\n",
      "[90]\ttrain-rmse:0.16797\tval-rmse:0.23332\n",
      "[91]\ttrain-rmse:0.16756\tval-rmse:0.23330\n",
      "[92]\ttrain-rmse:0.16707\tval-rmse:0.23298\n",
      "[93]\ttrain-rmse:0.16623\tval-rmse:0.23273\n",
      "[94]\ttrain-rmse:0.16586\tval-rmse:0.23279\n",
      "[95]\ttrain-rmse:0.16562\tval-rmse:0.23276\n",
      "[96]\ttrain-rmse:0.16524\tval-rmse:0.23266\n",
      "[97]\ttrain-rmse:0.16444\tval-rmse:0.23246\n",
      "[98]\ttrain-rmse:0.16383\tval-rmse:0.23222\n",
      "[99]\ttrain-rmse:0.16323\tval-rmse:0.23209\n"
     ]
    }
   ],
   "source": [
    "xgb_params = {\n",
    "    'eta': 0.1, \n",
    "    'max_depth': 6,\n",
    "    'min_child_weight': 1,\n",
    "    \n",
    "    'objective': 'reg:squarederror',\n",
    "    'nthread': 8,\n",
    "    \n",
    "    'seed': 1,\n",
    "    'verbosity': 1,\n",
    "}\n",
    "\n",
    "model = xgb.train(xgb_params, dtrain, num_boost_round=100, \n",
    "                  evals=watchlist)\n",
    "\n",
    "y_pred = model.predict(dval)"
   ]
  },
  {
   "cell_type": "code",
   "execution_count": 174,
   "id": "4ce36d58",
   "metadata": {},
   "outputs": [
    {
     "data": {
      "text/plain": [
       "0.23208927121609343"
      ]
     },
     "execution_count": 174,
     "metadata": {},
     "output_type": "execute_result"
    }
   ],
   "source": [
    "rmse = np.sqrt((mean_squared_error(y_val, y_pred)))\n",
    "rmse"
   ]
  },
  {
   "cell_type": "markdown",
   "id": "fb6c2b2f",
   "metadata": {},
   "source": [
    "==> best rmse with eta = 0.1"
   ]
  },
  {
   "cell_type": "code",
   "execution_count": null,
   "id": "0e745363",
   "metadata": {},
   "outputs": [],
   "source": []
  },
  {
   "cell_type": "code",
   "execution_count": null,
   "id": "acd7c82a",
   "metadata": {},
   "outputs": [],
   "source": []
  },
  {
   "cell_type": "code",
   "execution_count": null,
   "id": "bda72e8d",
   "metadata": {},
   "outputs": [],
   "source": []
  },
  {
   "cell_type": "code",
   "execution_count": null,
   "id": "30e58e86",
   "metadata": {},
   "outputs": [],
   "source": []
  },
  {
   "cell_type": "code",
   "execution_count": null,
   "id": "35346620",
   "metadata": {},
   "outputs": [],
   "source": []
  },
  {
   "cell_type": "code",
   "execution_count": null,
   "id": "44c7c3c6",
   "metadata": {},
   "outputs": [],
   "source": []
  },
  {
   "cell_type": "code",
   "execution_count": null,
   "id": "01fd8ae0",
   "metadata": {},
   "outputs": [],
   "source": []
  },
  {
   "cell_type": "code",
   "execution_count": null,
   "id": "3002a174",
   "metadata": {},
   "outputs": [],
   "source": []
  },
  {
   "cell_type": "code",
   "execution_count": null,
   "id": "51790ff6",
   "metadata": {},
   "outputs": [],
   "source": []
  },
  {
   "cell_type": "code",
   "execution_count": null,
   "id": "9e554dd5",
   "metadata": {},
   "outputs": [],
   "source": []
  },
  {
   "cell_type": "code",
   "execution_count": null,
   "id": "738c9976",
   "metadata": {},
   "outputs": [],
   "source": []
  },
  {
   "cell_type": "code",
   "execution_count": null,
   "id": "d235699f",
   "metadata": {},
   "outputs": [],
   "source": []
  },
  {
   "cell_type": "code",
   "execution_count": null,
   "id": "1c5924e0",
   "metadata": {},
   "outputs": [],
   "source": []
  },
  {
   "cell_type": "code",
   "execution_count": null,
   "id": "47965c72",
   "metadata": {},
   "outputs": [],
   "source": []
  },
  {
   "cell_type": "code",
   "execution_count": null,
   "id": "aabd7a30",
   "metadata": {},
   "outputs": [],
   "source": []
  },
  {
   "cell_type": "code",
   "execution_count": null,
   "id": "d7ba4294",
   "metadata": {},
   "outputs": [],
   "source": []
  },
  {
   "cell_type": "code",
   "execution_count": null,
   "id": "f0e7fb1d",
   "metadata": {},
   "outputs": [],
   "source": []
  },
  {
   "cell_type": "code",
   "execution_count": null,
   "id": "fd274532",
   "metadata": {},
   "outputs": [],
   "source": []
  },
  {
   "cell_type": "code",
   "execution_count": null,
   "id": "64c2ae82",
   "metadata": {},
   "outputs": [],
   "source": []
  },
  {
   "cell_type": "code",
   "execution_count": null,
   "id": "c03da7fd",
   "metadata": {},
   "outputs": [],
   "source": []
  },
  {
   "cell_type": "code",
   "execution_count": null,
   "id": "3e15ef40",
   "metadata": {},
   "outputs": [],
   "source": []
  }
 ],
 "metadata": {
  "kernelspec": {
   "display_name": "Python 3 (ipykernel)",
   "language": "python",
   "name": "python3"
  },
  "language_info": {
   "codemirror_mode": {
    "name": "ipython",
    "version": 3
   },
   "file_extension": ".py",
   "mimetype": "text/x-python",
   "name": "python",
   "nbconvert_exporter": "python",
   "pygments_lexer": "ipython3",
   "version": "3.10.13"
  }
 },
 "nbformat": 4,
 "nbformat_minor": 5
}
