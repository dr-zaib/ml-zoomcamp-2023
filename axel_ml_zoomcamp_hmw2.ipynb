{
 "cells": [
  {
   "cell_type": "code",
   "execution_count": 275,
   "id": "58be0197-12d7-40b2-aacc-fbd10d38e53f",
   "metadata": {},
   "outputs": [],
   "source": [
    "import pandas as pd\n",
    "import numpy as np\n",
    "\n",
    "import matplotlib.pyplot as plt\n",
    "import seaborn as sns\n",
    "\n",
    "%matplotlib inline"
   ]
  },
  {
   "cell_type": "markdown",
   "id": "acd35c11-f53e-4f1a-a219-e5c22e745e4a",
   "metadata": {},
   "source": [
    "**EDA**"
   ]
  },
  {
   "cell_type": "code",
   "execution_count": 276,
   "id": "9f4b9320-4cd0-4d6a-97dc-61b521faed02",
   "metadata": {},
   "outputs": [],
   "source": [
    "df = pd.read_csv(r\"C:\\Users\\axelb\\Desktop\\ml-zoomcamp\\dataset_hmw2.csv\")"
   ]
  },
  {
   "cell_type": "code",
   "execution_count": 277,
   "id": "951561f6-1a0f-4c31-ba53-d9fa1f766cb4",
   "metadata": {},
   "outputs": [
    {
     "data": {
      "text/html": [
       "<div>\n",
       "<style scoped>\n",
       "    .dataframe tbody tr th:only-of-type {\n",
       "        vertical-align: middle;\n",
       "    }\n",
       "\n",
       "    .dataframe tbody tr th {\n",
       "        vertical-align: top;\n",
       "    }\n",
       "\n",
       "    .dataframe thead th {\n",
       "        text-align: right;\n",
       "    }\n",
       "</style>\n",
       "<table border=\"1\" class=\"dataframe\">\n",
       "  <thead>\n",
       "    <tr style=\"text-align: right;\">\n",
       "      <th></th>\n",
       "      <th>longitude</th>\n",
       "      <th>latitude</th>\n",
       "      <th>housing_median_age</th>\n",
       "      <th>total_rooms</th>\n",
       "      <th>total_bedrooms</th>\n",
       "      <th>population</th>\n",
       "      <th>households</th>\n",
       "      <th>median_income</th>\n",
       "      <th>median_house_value</th>\n",
       "      <th>ocean_proximity</th>\n",
       "    </tr>\n",
       "  </thead>\n",
       "  <tbody>\n",
       "    <tr>\n",
       "      <th>0</th>\n",
       "      <td>-122.23</td>\n",
       "      <td>37.88</td>\n",
       "      <td>41.0</td>\n",
       "      <td>880.0</td>\n",
       "      <td>129.0</td>\n",
       "      <td>322.0</td>\n",
       "      <td>126.0</td>\n",
       "      <td>8.3252</td>\n",
       "      <td>452600.0</td>\n",
       "      <td>NEAR BAY</td>\n",
       "    </tr>\n",
       "    <tr>\n",
       "      <th>1</th>\n",
       "      <td>-122.22</td>\n",
       "      <td>37.86</td>\n",
       "      <td>21.0</td>\n",
       "      <td>7099.0</td>\n",
       "      <td>1106.0</td>\n",
       "      <td>2401.0</td>\n",
       "      <td>1138.0</td>\n",
       "      <td>8.3014</td>\n",
       "      <td>358500.0</td>\n",
       "      <td>NEAR BAY</td>\n",
       "    </tr>\n",
       "    <tr>\n",
       "      <th>2</th>\n",
       "      <td>-122.24</td>\n",
       "      <td>37.85</td>\n",
       "      <td>52.0</td>\n",
       "      <td>1467.0</td>\n",
       "      <td>190.0</td>\n",
       "      <td>496.0</td>\n",
       "      <td>177.0</td>\n",
       "      <td>7.2574</td>\n",
       "      <td>352100.0</td>\n",
       "      <td>NEAR BAY</td>\n",
       "    </tr>\n",
       "    <tr>\n",
       "      <th>3</th>\n",
       "      <td>-122.25</td>\n",
       "      <td>37.85</td>\n",
       "      <td>52.0</td>\n",
       "      <td>1274.0</td>\n",
       "      <td>235.0</td>\n",
       "      <td>558.0</td>\n",
       "      <td>219.0</td>\n",
       "      <td>5.6431</td>\n",
       "      <td>341300.0</td>\n",
       "      <td>NEAR BAY</td>\n",
       "    </tr>\n",
       "    <tr>\n",
       "      <th>4</th>\n",
       "      <td>-122.25</td>\n",
       "      <td>37.85</td>\n",
       "      <td>52.0</td>\n",
       "      <td>1627.0</td>\n",
       "      <td>280.0</td>\n",
       "      <td>565.0</td>\n",
       "      <td>259.0</td>\n",
       "      <td>3.8462</td>\n",
       "      <td>342200.0</td>\n",
       "      <td>NEAR BAY</td>\n",
       "    </tr>\n",
       "  </tbody>\n",
       "</table>\n",
       "</div>"
      ],
      "text/plain": [
       "   longitude  latitude  housing_median_age  total_rooms  total_bedrooms  \\\n",
       "0    -122.23     37.88                41.0        880.0           129.0   \n",
       "1    -122.22     37.86                21.0       7099.0          1106.0   \n",
       "2    -122.24     37.85                52.0       1467.0           190.0   \n",
       "3    -122.25     37.85                52.0       1274.0           235.0   \n",
       "4    -122.25     37.85                52.0       1627.0           280.0   \n",
       "\n",
       "   population  households  median_income  median_house_value ocean_proximity  \n",
       "0       322.0       126.0         8.3252            452600.0        NEAR BAY  \n",
       "1      2401.0      1138.0         8.3014            358500.0        NEAR BAY  \n",
       "2       496.0       177.0         7.2574            352100.0        NEAR BAY  \n",
       "3       558.0       219.0         5.6431            341300.0        NEAR BAY  \n",
       "4       565.0       259.0         3.8462            342200.0        NEAR BAY  "
      ]
     },
     "execution_count": 277,
     "metadata": {},
     "output_type": "execute_result"
    }
   ],
   "source": [
    "df.head()"
   ]
  },
  {
   "cell_type": "code",
   "execution_count": 278,
   "id": "ae79af21-8e03-40a1-8c12-ece43d7045fe",
   "metadata": {},
   "outputs": [
    {
     "name": "stderr",
     "output_type": "stream",
     "text": [
      "C:\\Users\\axelb\\anaconda3\\envs\\ml-zoomcamp\\lib\\site-packages\\seaborn\\_oldcore.py:1498: FutureWarning: is_categorical_dtype is deprecated and will be removed in a future version. Use isinstance(dtype, CategoricalDtype) instead\n",
      "  if pd.api.types.is_categorical_dtype(vector):\n",
      "C:\\Users\\axelb\\anaconda3\\envs\\ml-zoomcamp\\lib\\site-packages\\seaborn\\_oldcore.py:1119: FutureWarning: use_inf_as_na option is deprecated and will be removed in a future version. Convert inf values to NaN before operating instead.\n",
      "  with pd.option_context('mode.use_inf_as_na', True):\n"
     ]
    },
    {
     "data": {
      "text/plain": [
       "<Axes: xlabel='median_house_value', ylabel='Count'>"
      ]
     },
     "execution_count": 278,
     "metadata": {},
     "output_type": "execute_result"
    },
    {
     "data": {
      "image/png": "[encoded data removed]",
      "text/plain": [
       "<Figure size 640x480 with 1 Axes>"
      ]
     },
     "metadata": {},
     "output_type": "display_data"
    }
   ],
   "source": [
    "sns.histplot(df.median_house_value, bins=50)"
   ]
  },
  {
   "cell_type": "markdown",
   "id": "86c225d1-b492-445e-8ea9-689db222438d",
   "metadata": {},
   "source": [
    "==> no it is not a long tail distribution, it is more of a normal distribution"
   ]
  },
  {
   "cell_type": "markdown",
   "id": "f7ca5f85-49aa-4491-a89a-ebbe3343f06d",
   "metadata": {},
   "source": [
    "**preparing the dataset**"
   ]
  },
  {
   "cell_type": "code",
   "execution_count": 279,
   "id": "09318439-94d2-42a3-80c7-96231386610e",
   "metadata": {},
   "outputs": [],
   "source": [
    "dataset = df[(df.ocean_proximity == '<1H OCEAN') | (df.ocean_proximity == 'INLAND')]"
   ]
  },
  {
   "cell_type": "code",
   "execution_count": 280,
   "id": "3c5ca096-3a43-4896-aecb-5feeede8beec",
   "metadata": {},
   "outputs": [
    {
     "data": {
      "text/html": [
       "<div>\n",
       "<style scoped>\n",
       "    .dataframe tbody tr th:only-of-type {\n",
       "        vertical-align: middle;\n",
       "    }\n",
       "\n",
       "    .dataframe tbody tr th {\n",
       "        vertical-align: top;\n",
       "    }\n",
       "\n",
       "    .dataframe thead th {\n",
       "        text-align: right;\n",
       "    }\n",
       "</style>\n",
       "<table border=\"1\" class=\"dataframe\">\n",
       "  <thead>\n",
       "    <tr style=\"text-align: right;\">\n",
       "      <th></th>\n",
       "      <th>longitude</th>\n",
       "      <th>latitude</th>\n",
       "      <th>housing_median_age</th>\n",
       "      <th>total_rooms</th>\n",
       "      <th>total_bedrooms</th>\n",
       "      <th>population</th>\n",
       "      <th>households</th>\n",
       "      <th>median_income</th>\n",
       "      <th>median_house_value</th>\n",
       "      <th>ocean_proximity</th>\n",
       "    </tr>\n",
       "  </thead>\n",
       "  <tbody>\n",
       "    <tr>\n",
       "      <th>701</th>\n",
       "      <td>-121.97</td>\n",
       "      <td>37.64</td>\n",
       "      <td>32.0</td>\n",
       "      <td>1283.0</td>\n",
       "      <td>194.0</td>\n",
       "      <td>485.0</td>\n",
       "      <td>171.0</td>\n",
       "      <td>6.0574</td>\n",
       "      <td>431000.0</td>\n",
       "      <td>&lt;1H OCEAN</td>\n",
       "    </tr>\n",
       "    <tr>\n",
       "      <th>830</th>\n",
       "      <td>-121.99</td>\n",
       "      <td>37.61</td>\n",
       "      <td>9.0</td>\n",
       "      <td>3666.0</td>\n",
       "      <td>711.0</td>\n",
       "      <td>2341.0</td>\n",
       "      <td>703.0</td>\n",
       "      <td>4.6458</td>\n",
       "      <td>217000.0</td>\n",
       "      <td>&lt;1H OCEAN</td>\n",
       "    </tr>\n",
       "    <tr>\n",
       "      <th>859</th>\n",
       "      <td>-121.97</td>\n",
       "      <td>37.57</td>\n",
       "      <td>21.0</td>\n",
       "      <td>4342.0</td>\n",
       "      <td>783.0</td>\n",
       "      <td>2172.0</td>\n",
       "      <td>789.0</td>\n",
       "      <td>4.6146</td>\n",
       "      <td>247600.0</td>\n",
       "      <td>&lt;1H OCEAN</td>\n",
       "    </tr>\n",
       "    <tr>\n",
       "      <th>860</th>\n",
       "      <td>-121.96</td>\n",
       "      <td>37.58</td>\n",
       "      <td>15.0</td>\n",
       "      <td>3575.0</td>\n",
       "      <td>597.0</td>\n",
       "      <td>1777.0</td>\n",
       "      <td>559.0</td>\n",
       "      <td>5.7192</td>\n",
       "      <td>283500.0</td>\n",
       "      <td>&lt;1H OCEAN</td>\n",
       "    </tr>\n",
       "    <tr>\n",
       "      <th>861</th>\n",
       "      <td>-121.98</td>\n",
       "      <td>37.58</td>\n",
       "      <td>20.0</td>\n",
       "      <td>4126.0</td>\n",
       "      <td>1031.0</td>\n",
       "      <td>2079.0</td>\n",
       "      <td>975.0</td>\n",
       "      <td>3.6832</td>\n",
       "      <td>216900.0</td>\n",
       "      <td>&lt;1H OCEAN</td>\n",
       "    </tr>\n",
       "    <tr>\n",
       "      <th>...</th>\n",
       "      <td>...</td>\n",
       "      <td>...</td>\n",
       "      <td>...</td>\n",
       "      <td>...</td>\n",
       "      <td>...</td>\n",
       "      <td>...</td>\n",
       "      <td>...</td>\n",
       "      <td>...</td>\n",
       "      <td>...</td>\n",
       "      <td>...</td>\n",
       "    </tr>\n",
       "    <tr>\n",
       "      <th>20635</th>\n",
       "      <td>-121.09</td>\n",
       "      <td>39.48</td>\n",
       "      <td>25.0</td>\n",
       "      <td>1665.0</td>\n",
       "      <td>374.0</td>\n",
       "      <td>845.0</td>\n",
       "      <td>330.0</td>\n",
       "      <td>1.5603</td>\n",
       "      <td>78100.0</td>\n",
       "      <td>INLAND</td>\n",
       "    </tr>\n",
       "    <tr>\n",
       "      <th>20636</th>\n",
       "      <td>-121.21</td>\n",
       "      <td>39.49</td>\n",
       "      <td>18.0</td>\n",
       "      <td>697.0</td>\n",
       "      <td>150.0</td>\n",
       "      <td>356.0</td>\n",
       "      <td>114.0</td>\n",
       "      <td>2.5568</td>\n",
       "      <td>77100.0</td>\n",
       "      <td>INLAND</td>\n",
       "    </tr>\n",
       "    <tr>\n",
       "      <th>20637</th>\n",
       "      <td>-121.22</td>\n",
       "      <td>39.43</td>\n",
       "      <td>17.0</td>\n",
       "      <td>2254.0</td>\n",
       "      <td>485.0</td>\n",
       "      <td>1007.0</td>\n",
       "      <td>433.0</td>\n",
       "      <td>1.7000</td>\n",
       "      <td>92300.0</td>\n",
       "      <td>INLAND</td>\n",
       "    </tr>\n",
       "    <tr>\n",
       "      <th>20638</th>\n",
       "      <td>-121.32</td>\n",
       "      <td>39.43</td>\n",
       "      <td>18.0</td>\n",
       "      <td>1860.0</td>\n",
       "      <td>409.0</td>\n",
       "      <td>741.0</td>\n",
       "      <td>349.0</td>\n",
       "      <td>1.8672</td>\n",
       "      <td>84700.0</td>\n",
       "      <td>INLAND</td>\n",
       "    </tr>\n",
       "    <tr>\n",
       "      <th>20639</th>\n",
       "      <td>-121.24</td>\n",
       "      <td>39.37</td>\n",
       "      <td>16.0</td>\n",
       "      <td>2785.0</td>\n",
       "      <td>616.0</td>\n",
       "      <td>1387.0</td>\n",
       "      <td>530.0</td>\n",
       "      <td>2.3886</td>\n",
       "      <td>89400.0</td>\n",
       "      <td>INLAND</td>\n",
       "    </tr>\n",
       "  </tbody>\n",
       "</table>\n",
       "<p>15687 rows × 10 columns</p>\n",
       "</div>"
      ],
      "text/plain": [
       "       longitude  latitude  housing_median_age  total_rooms  total_bedrooms  \\\n",
       "701      -121.97     37.64                32.0       1283.0           194.0   \n",
       "830      -121.99     37.61                 9.0       3666.0           711.0   \n",
       "859      -121.97     37.57                21.0       4342.0           783.0   \n",
       "860      -121.96     37.58                15.0       3575.0           597.0   \n",
       "861      -121.98     37.58                20.0       4126.0          1031.0   \n",
       "...          ...       ...                 ...          ...             ...   \n",
       "20635    -121.09     39.48                25.0       1665.0           374.0   \n",
       "20636    -121.21     39.49                18.0        697.0           150.0   \n",
       "20637    -121.22     39.43                17.0       2254.0           485.0   \n",
       "20638    -121.32     39.43                18.0       1860.0           409.0   \n",
       "20639    -121.24     39.37                16.0       2785.0           616.0   \n",
       "\n",
       "       population  households  median_income  median_house_value  \\\n",
       "701         485.0       171.0         6.0574            431000.0   \n",
       "830        2341.0       703.0         4.6458            217000.0   \n",
       "859        2172.0       789.0         4.6146            247600.0   \n",
       "860        1777.0       559.0         5.7192            283500.0   \n",
       "861        2079.0       975.0         3.6832            216900.0   \n",
       "...           ...         ...            ...                 ...   \n",
       "20635       845.0       330.0         1.5603             78100.0   \n",
       "20636       356.0       114.0         2.5568             77100.0   \n",
       "20637      1007.0       433.0         1.7000             92300.0   \n",
       "20638       741.0       349.0         1.8672             84700.0   \n",
       "20639      1387.0       530.0         2.3886             89400.0   \n",
       "\n",
       "      ocean_proximity  \n",
       "701         <1H OCEAN  \n",
       "830         <1H OCEAN  \n",
       "859         <1H OCEAN  \n",
       "860         <1H OCEAN  \n",
       "861         <1H OCEAN  \n",
       "...               ...  \n",
       "20635          INLAND  \n",
       "20636          INLAND  \n",
       "20637          INLAND  \n",
       "20638          INLAND  \n",
       "20639          INLAND  \n",
       "\n",
       "[15687 rows x 10 columns]"
      ]
     },
     "execution_count": 280,
     "metadata": {},
     "output_type": "execute_result"
    }
   ],
   "source": [
    "dataset"
   ]
  },
  {
   "cell_type": "code",
   "execution_count": 281,
   "id": "96e32c50-e455-47f9-b7f9-b9e7d129055c",
   "metadata": {},
   "outputs": [],
   "source": [
    "base = ['latitude', 'longitude', 'housing_median_age', 'total_rooms', 'total_bedrooms', \n",
    "        'population', 'households', 'median_income', 'median_house_value']"
   ]
  },
  {
   "cell_type": "code",
   "execution_count": 282,
   "id": "bf43fe11-2505-4219-8346-828af38707e8",
   "metadata": {},
   "outputs": [
    {
     "data": {
      "text/html": [
       "<div>\n",
       "<style scoped>\n",
       "    .dataframe tbody tr th:only-of-type {\n",
       "        vertical-align: middle;\n",
       "    }\n",
       "\n",
       "    .dataframe tbody tr th {\n",
       "        vertical-align: top;\n",
       "    }\n",
       "\n",
       "    .dataframe thead th {\n",
       "        text-align: right;\n",
       "    }\n",
       "</style>\n",
       "<table border=\"1\" class=\"dataframe\">\n",
       "  <thead>\n",
       "    <tr style=\"text-align: right;\">\n",
       "      <th></th>\n",
       "      <th>latitude</th>\n",
       "      <th>longitude</th>\n",
       "      <th>housing_median_age</th>\n",
       "      <th>total_rooms</th>\n",
       "      <th>total_bedrooms</th>\n",
       "      <th>population</th>\n",
       "      <th>households</th>\n",
       "      <th>median_income</th>\n",
       "      <th>median_house_value</th>\n",
       "    </tr>\n",
       "  </thead>\n",
       "  <tbody>\n",
       "    <tr>\n",
       "      <th>701</th>\n",
       "      <td>37.64</td>\n",
       "      <td>-121.97</td>\n",
       "      <td>32.0</td>\n",
       "      <td>1283.0</td>\n",
       "      <td>194.0</td>\n",
       "      <td>485.0</td>\n",
       "      <td>171.0</td>\n",
       "      <td>6.0574</td>\n",
       "      <td>431000.0</td>\n",
       "    </tr>\n",
       "    <tr>\n",
       "      <th>830</th>\n",
       "      <td>37.61</td>\n",
       "      <td>-121.99</td>\n",
       "      <td>9.0</td>\n",
       "      <td>3666.0</td>\n",
       "      <td>711.0</td>\n",
       "      <td>2341.0</td>\n",
       "      <td>703.0</td>\n",
       "      <td>4.6458</td>\n",
       "      <td>217000.0</td>\n",
       "    </tr>\n",
       "    <tr>\n",
       "      <th>859</th>\n",
       "      <td>37.57</td>\n",
       "      <td>-121.97</td>\n",
       "      <td>21.0</td>\n",
       "      <td>4342.0</td>\n",
       "      <td>783.0</td>\n",
       "      <td>2172.0</td>\n",
       "      <td>789.0</td>\n",
       "      <td>4.6146</td>\n",
       "      <td>247600.0</td>\n",
       "    </tr>\n",
       "    <tr>\n",
       "      <th>860</th>\n",
       "      <td>37.58</td>\n",
       "      <td>-121.96</td>\n",
       "      <td>15.0</td>\n",
       "      <td>3575.0</td>\n",
       "      <td>597.0</td>\n",
       "      <td>1777.0</td>\n",
       "      <td>559.0</td>\n",
       "      <td>5.7192</td>\n",
       "      <td>283500.0</td>\n",
       "    </tr>\n",
       "    <tr>\n",
       "      <th>861</th>\n",
       "      <td>37.58</td>\n",
       "      <td>-121.98</td>\n",
       "      <td>20.0</td>\n",
       "      <td>4126.0</td>\n",
       "      <td>1031.0</td>\n",
       "      <td>2079.0</td>\n",
       "      <td>975.0</td>\n",
       "      <td>3.6832</td>\n",
       "      <td>216900.0</td>\n",
       "    </tr>\n",
       "    <tr>\n",
       "      <th>...</th>\n",
       "      <td>...</td>\n",
       "      <td>...</td>\n",
       "      <td>...</td>\n",
       "      <td>...</td>\n",
       "      <td>...</td>\n",
       "      <td>...</td>\n",
       "      <td>...</td>\n",
       "      <td>...</td>\n",
       "      <td>...</td>\n",
       "    </tr>\n",
       "    <tr>\n",
       "      <th>20635</th>\n",
       "      <td>39.48</td>\n",
       "      <td>-121.09</td>\n",
       "      <td>25.0</td>\n",
       "      <td>1665.0</td>\n",
       "      <td>374.0</td>\n",
       "      <td>845.0</td>\n",
       "      <td>330.0</td>\n",
       "      <td>1.5603</td>\n",
       "      <td>78100.0</td>\n",
       "    </tr>\n",
       "    <tr>\n",
       "      <th>20636</th>\n",
       "      <td>39.49</td>\n",
       "      <td>-121.21</td>\n",
       "      <td>18.0</td>\n",
       "      <td>697.0</td>\n",
       "      <td>150.0</td>\n",
       "      <td>356.0</td>\n",
       "      <td>114.0</td>\n",
       "      <td>2.5568</td>\n",
       "      <td>77100.0</td>\n",
       "    </tr>\n",
       "    <tr>\n",
       "      <th>20637</th>\n",
       "      <td>39.43</td>\n",
       "      <td>-121.22</td>\n",
       "      <td>17.0</td>\n",
       "      <td>2254.0</td>\n",
       "      <td>485.0</td>\n",
       "      <td>1007.0</td>\n",
       "      <td>433.0</td>\n",
       "      <td>1.7000</td>\n",
       "      <td>92300.0</td>\n",
       "    </tr>\n",
       "    <tr>\n",
       "      <th>20638</th>\n",
       "      <td>39.43</td>\n",
       "      <td>-121.32</td>\n",
       "      <td>18.0</td>\n",
       "      <td>1860.0</td>\n",
       "      <td>409.0</td>\n",
       "      <td>741.0</td>\n",
       "      <td>349.0</td>\n",
       "      <td>1.8672</td>\n",
       "      <td>84700.0</td>\n",
       "    </tr>\n",
       "    <tr>\n",
       "      <th>20639</th>\n",
       "      <td>39.37</td>\n",
       "      <td>-121.24</td>\n",
       "      <td>16.0</td>\n",
       "      <td>2785.0</td>\n",
       "      <td>616.0</td>\n",
       "      <td>1387.0</td>\n",
       "      <td>530.0</td>\n",
       "      <td>2.3886</td>\n",
       "      <td>89400.0</td>\n",
       "    </tr>\n",
       "  </tbody>\n",
       "</table>\n",
       "<p>15687 rows × 9 columns</p>\n",
       "</div>"
      ],
      "text/plain": [
       "       latitude  longitude  housing_median_age  total_rooms  total_bedrooms  \\\n",
       "701       37.64    -121.97                32.0       1283.0           194.0   \n",
       "830       37.61    -121.99                 9.0       3666.0           711.0   \n",
       "859       37.57    -121.97                21.0       4342.0           783.0   \n",
       "860       37.58    -121.96                15.0       3575.0           597.0   \n",
       "861       37.58    -121.98                20.0       4126.0          1031.0   \n",
       "...         ...        ...                 ...          ...             ...   \n",
       "20635     39.48    -121.09                25.0       1665.0           374.0   \n",
       "20636     39.49    -121.21                18.0        697.0           150.0   \n",
       "20637     39.43    -121.22                17.0       2254.0           485.0   \n",
       "20638     39.43    -121.32                18.0       1860.0           409.0   \n",
       "20639     39.37    -121.24                16.0       2785.0           616.0   \n",
       "\n",
       "       population  households  median_income  median_house_value  \n",
       "701         485.0       171.0         6.0574            431000.0  \n",
       "830        2341.0       703.0         4.6458            217000.0  \n",
       "859        2172.0       789.0         4.6146            247600.0  \n",
       "860        1777.0       559.0         5.7192            283500.0  \n",
       "861        2079.0       975.0         3.6832            216900.0  \n",
       "...           ...         ...            ...                 ...  \n",
       "20635       845.0       330.0         1.5603             78100.0  \n",
       "20636       356.0       114.0         2.5568             77100.0  \n",
       "20637      1007.0       433.0         1.7000             92300.0  \n",
       "20638       741.0       349.0         1.8672             84700.0  \n",
       "20639      1387.0       530.0         2.3886             89400.0  \n",
       "\n",
       "[15687 rows x 9 columns]"
      ]
     },
     "execution_count": 282,
     "metadata": {},
     "output_type": "execute_result"
    }
   ],
   "source": [
    "dataset = dataset[base]\n",
    "dataset"
   ]
  },
  {
   "cell_type": "markdown",
   "id": "5d90e84b-faec-496c-85a1-1ebea03c7bb9",
   "metadata": {},
   "source": [
    "**question 1**"
   ]
  },
  {
   "cell_type": "code",
   "execution_count": 283,
   "id": "da7d8982-1bad-49ba-ad6b-0fa05b592bf1",
   "metadata": {},
   "outputs": [
    {
     "data": {
      "text/plain": [
       "latitude                0\n",
       "longitude               0\n",
       "housing_median_age      0\n",
       "total_rooms             0\n",
       "total_bedrooms        157\n",
       "population              0\n",
       "households              0\n",
       "median_income           0\n",
       "median_house_value      0\n",
       "dtype: int64"
      ]
     },
     "execution_count": 283,
     "metadata": {},
     "output_type": "execute_result"
    }
   ],
   "source": [
    "dataset.isnull().sum()"
   ]
  },
  {
   "cell_type": "markdown",
   "id": "4ba32b9e-6d0f-4c52-8da8-8d443df03e16",
   "metadata": {},
   "source": [
    "==> total_bedrooms is the feature with missing values"
   ]
  },
  {
   "cell_type": "markdown",
   "id": "33df0b87-72cd-4e7e-b7ae-27e517da4a0f",
   "metadata": {},
   "source": [
    "**question 2**\n",
    "median for the variable 'population'"
   ]
  },
  {
   "cell_type": "code",
   "execution_count": 284,
   "id": "c6104a5a-1d12-4c0b-9a0f-2ea2bdce2b4e",
   "metadata": {},
   "outputs": [
    {
     "data": {
      "text/plain": [
       "1195.0"
      ]
     },
     "execution_count": 284,
     "metadata": {},
     "output_type": "execute_result"
    }
   ],
   "source": [
    "population_median = np.median(dataset.population.values)\n",
    "population_median"
   ]
  },
  {
   "cell_type": "markdown",
   "id": "a1946807-5b46-41b7-b52b-34682ca47d6e",
   "metadata": {},
   "source": [
    "**prepare and split the dataset**"
   ]
  },
  {
   "cell_type": "code",
   "execution_count": 285,
   "id": "3fe8c56a-5953-4f19-82d4-661a46e5b311",
   "metadata": {},
   "outputs": [],
   "source": [
    "n = len(dataset)\n",
    "idx = np.arange(n)\n",
    "\n",
    "np.random.seed(42)\n",
    "np.random.shuffle(idx)"
   ]
  },
  {
   "cell_type": "code",
   "execution_count": 286,
   "id": "3b34e25f-0b7e-4349-aab2-a935fe1d5fce",
   "metadata": {},
   "outputs": [
    {
     "data": {
      "text/plain": [
       "(9413, 3137, 3137)"
      ]
     },
     "execution_count": 286,
     "metadata": {},
     "output_type": "execute_result"
    }
   ],
   "source": [
    "n_val = int(0.2 * n)\n",
    "n_test = int(0.2 * n)\n",
    "n_train = n - n_val - n_test\n",
    "\n",
    "n_train, n_val, n_test"
   ]
  },
  {
   "cell_type": "code",
   "execution_count": 287,
   "id": "82cd5780-0ca3-4685-9458-4e9f8395790d",
   "metadata": {},
   "outputs": [],
   "source": [
    "df_train = dataset.iloc[idx[:n_train]]\n",
    "df_val = dataset.iloc[idx[n_train:n_train+n_val]]\n",
    "df_test = dataset.iloc[idx[n_train+n_val:]]\n",
    "\n",
    "df_train = df_train.reset_index(drop=True)\n",
    "df_val = df_val.reset_index(drop=True)\n",
    "df_test = df_test.reset_index(drop=True)"
   ]
  },
  {
   "cell_type": "code",
   "execution_count": 288,
   "id": "5e1680ec-5ba1-434c-81a3-c12608df2074",
   "metadata": {},
   "outputs": [],
   "source": [
    "df_train['median_house_value'] = np.log1p(df_train.median_house_value)\n",
    "df_val['median_house_value'] = np.log1p(df_val.median_house_value)\n",
    "df_test['median_house_value'] = np.log1p(df_test.median_house_value)"
   ]
  },
  {
   "cell_type": "code",
   "execution_count": 289,
   "id": "474a2299-d61e-4156-bace-cc4443b741a3",
   "metadata": {},
   "outputs": [
    {
     "data": {
      "text/plain": [
       "(array([11.16196275, 12.32163544, 12.4718963 , ..., 13.12236738,\n",
       "        12.11888489, 12.52924613]),\n",
       " array([11.3095968 , 12.27326857, 11.95247633, ..., 12.53968723,\n",
       "        12.34279083, 11.97477721]),\n",
       " array([11.90969286, 12.16733701, 12.39338589, ..., 12.3647886 ,\n",
       "        11.33141558, 12.50766132]))"
      ]
     },
     "execution_count": 289,
     "metadata": {},
     "output_type": "execute_result"
    }
   ],
   "source": [
    "y_train = df_train.median_house_value.values\n",
    "y_val = df_val.median_house_value.values\n",
    "y_test = df_test.median_house_value.values\n",
    "\n",
    "y_train, y_val, y_test"
   ]
  },
  {
   "cell_type": "markdown",
   "id": "a342827b-6958-4d70-8cf5-1dc7f96adb63",
   "metadata": {},
   "source": [
    "**question 3**"
   ]
  },
  {
   "cell_type": "code",
   "execution_count": 290,
   "id": "f5a4f2f9-4c49-4fed-bc08-9fbb11cd46f7",
   "metadata": {},
   "outputs": [
    {
     "data": {
      "text/plain": [
       "542.552956325786"
      ]
     },
     "execution_count": 290,
     "metadata": {},
     "output_type": "execute_result"
    }
   ],
   "source": [
    "total_bedrooms_avg = np.mean(df_train.total_bedrooms)\n",
    "total_bedrooms_avg"
   ]
  },
  {
   "cell_type": "code",
   "execution_count": 291,
   "id": "82f231a6-33cf-4960-8623-c8c33820a6f5",
   "metadata": {},
   "outputs": [
    {
     "data": {
      "text/plain": [
       "8"
      ]
     },
     "execution_count": 291,
     "metadata": {},
     "output_type": "execute_result"
    }
   ],
   "source": [
    "# we want to predict the median_house_vale, so we need to redefine our feature vector\n",
    "\n",
    "features = ['latitude', 'longitude', 'housing_median_age', 'total_rooms', 'total_bedrooms', \n",
    "        'population', 'households', 'median_income']\n",
    "\n",
    "len(features)"
   ]
  },
  {
   "cell_type": "code",
   "execution_count": 292,
   "id": "05eefe1a-652f-43ca-8feb-5cf185c8dcd9",
   "metadata": {},
   "outputs": [],
   "source": [
    "def prepare_X_zero(df):\n",
    "\n",
    "    df_new = df[features]\n",
    "    df_new = df_new.fillna(0)\n",
    "    X = df_new.values\n",
    "\n",
    "    return X\n",
    "\n",
    "\n",
    "\n",
    "def prepare_X_mean(df):\n",
    "    \n",
    "    df_new = df[features]\n",
    "    df_new = df_new.fillna(total_bedrooms_avg)\n",
    "    X = df_new.values\n",
    "\n",
    "    return X\n",
    "\n",
    "\n",
    "\n",
    "def train_linear_regression(X, y):\n",
    "    ones = np.ones(X.shape[0])\n",
    "    X = np.column_stack([ones, X])\n",
    "\n",
    "    XTX = X.T.dot(X)\n",
    "    XTX_inv = np.linalg.inv(XTX)\n",
    "    w = XTX_inv.dot(X.T).dot(y)\n",
    "\n",
    "    return w[0], w[1:]\n",
    "\n",
    "\n",
    "\n",
    "def rmse(y, y_pred):\n",
    "\n",
    "    se = (y - y_pred) ** 2\n",
    "    mse = se.mean()\n",
    "\n",
    "    return np.sqrt(mse)"
   ]
  },
  {
   "cell_type": "code",
   "execution_count": 293,
   "id": "f9310fa7-ffe3-4b1f-85a6-1577909a3cf2",
   "metadata": {},
   "outputs": [
    {
     "name": "stdout",
     "output_type": "stream",
     "text": [
      "(9413, 8)\n",
      "(3137, 8)\n"
     ]
    },
    {
     "name": "stderr",
     "output_type": "stream",
     "text": [
      "C:\\Users\\axelb\\anaconda3\\envs\\ml-zoomcamp\\lib\\site-packages\\seaborn\\_oldcore.py:1498: FutureWarning: is_categorical_dtype is deprecated and will be removed in a future version. Use isinstance(dtype, CategoricalDtype) instead\n",
      "  if pd.api.types.is_categorical_dtype(vector):\n",
      "C:\\Users\\axelb\\anaconda3\\envs\\ml-zoomcamp\\lib\\site-packages\\seaborn\\_oldcore.py:1119: FutureWarning: use_inf_as_na option is deprecated and will be removed in a future version. Convert inf values to NaN before operating instead.\n",
      "  with pd.option_context('mode.use_inf_as_na', True):\n",
      "C:\\Users\\axelb\\anaconda3\\envs\\ml-zoomcamp\\lib\\site-packages\\seaborn\\_oldcore.py:1498: FutureWarning: is_categorical_dtype is deprecated and will be removed in a future version. Use isinstance(dtype, CategoricalDtype) instead\n",
      "  if pd.api.types.is_categorical_dtype(vector):\n",
      "C:\\Users\\axelb\\anaconda3\\envs\\ml-zoomcamp\\lib\\site-packages\\seaborn\\_oldcore.py:1119: FutureWarning: use_inf_as_na option is deprecated and will be removed in a future version. Convert inf values to NaN before operating instead.\n",
      "  with pd.option_context('mode.use_inf_as_na', True):\n"
     ]
    },
    {
     "data": {
      "text/plain": [
       "<Axes: ylabel='Count'>"
      ]
     },
     "execution_count": 293,
     "metadata": {},
     "output_type": "execute_result"
    },
    {
     "data": {
      "image/png": "[encoded data removed]",
      "text/plain": [
       "<Figure size 640x480 with 1 Axes>"
      ]
     },
     "metadata": {},
     "output_type": "display_data"
    }
   ],
   "source": [
    "# linear regression with fillna(0)\n",
    "\n",
    "X_train = prepare_X_zero(df_train)\n",
    "print(X_train.shape)\n",
    "w0, w = train_linear_regression(X_train, y_train)\n",
    "\n",
    "X_val = prepare_X_zero(df_val)\n",
    "print(X_val.shape)\n",
    "y_pred = w0 + X_val.dot(w)\n",
    "score_zero = rmse(y_val, y_pred)\n",
    "\n",
    "sns.histplot(y_val, color='blue', alpha=0.5, bins=50)\n",
    "sns.histplot(y_pred, color='red', alpha=0.5, bins=50)"
   ]
  },
  {
   "cell_type": "code",
   "execution_count": 294,
   "id": "b0a023b9-9656-4370-8e6a-06e3eaf432e7",
   "metadata": {},
   "outputs": [
    {
     "name": "stderr",
     "output_type": "stream",
     "text": [
      "C:\\Users\\axelb\\anaconda3\\envs\\ml-zoomcamp\\lib\\site-packages\\seaborn\\_oldcore.py:1498: FutureWarning: is_categorical_dtype is deprecated and will be removed in a future version. Use isinstance(dtype, CategoricalDtype) instead\n",
      "  if pd.api.types.is_categorical_dtype(vector):\n",
      "C:\\Users\\axelb\\anaconda3\\envs\\ml-zoomcamp\\lib\\site-packages\\seaborn\\_oldcore.py:1119: FutureWarning: use_inf_as_na option is deprecated and will be removed in a future version. Convert inf values to NaN before operating instead.\n",
      "  with pd.option_context('mode.use_inf_as_na', True):\n",
      "C:\\Users\\axelb\\anaconda3\\envs\\ml-zoomcamp\\lib\\site-packages\\seaborn\\_oldcore.py:1498: FutureWarning: is_categorical_dtype is deprecated and will be removed in a future version. Use isinstance(dtype, CategoricalDtype) instead\n",
      "  if pd.api.types.is_categorical_dtype(vector):\n",
      "C:\\Users\\axelb\\anaconda3\\envs\\ml-zoomcamp\\lib\\site-packages\\seaborn\\_oldcore.py:1119: FutureWarning: use_inf_as_na option is deprecated and will be removed in a future version. Convert inf values to NaN before operating instead.\n",
      "  with pd.option_context('mode.use_inf_as_na', True):\n"
     ]
    },
    {
     "data": {
      "text/plain": [
       "<Axes: ylabel='Count'>"
      ]
     },
     "execution_count": 294,
     "metadata": {},
     "output_type": "execute_result"
    },
    {
     "data": {
      "image/png": "[encoded data removed]",
      "text/plain": [
       "<Figure size 640x480 with 1 Axes>"
      ]
     },
     "metadata": {},
     "output_type": "display_data"
    }
   ],
   "source": [
    "# linear regression with fillna(mean)\n",
    "\n",
    "X_train1 = prepare_X_mean(df_train)\n",
    "w0, w = train_linear_regression(X_train1, y_train)\n",
    "\n",
    "X_val = prepare_X_mean(df_val)\n",
    "y_pred = w0 + X_val.dot(w)\n",
    "score_mean = rmse(y_val, y_pred)\n",
    "\n",
    "sns.histplot(y_val, color='blue', alpha=0.5, bins=50)\n",
    "sns.histplot(y_pred, color='red', alpha=0.5, bins=50)"
   ]
  },
  {
   "cell_type": "code",
   "execution_count": 295,
   "id": "cec6197f-d23e-489a-a739-a8dafbebdd2e",
   "metadata": {},
   "outputs": [
    {
     "data": {
      "text/plain": [
       "(0.3408479034178568, 0.3405699801421053)"
      ]
     },
     "execution_count": 295,
     "metadata": {},
     "output_type": "execute_result"
    }
   ],
   "source": [
    "score_zero, score_mean"
   ]
  },
  {
   "cell_type": "code",
   "execution_count": 296,
   "id": "a35681de-850d-4369-b44e-2d2128f5426c",
   "metadata": {},
   "outputs": [
    {
     "data": {
      "text/plain": [
       "0.34"
      ]
     },
     "execution_count": 296,
     "metadata": {},
     "output_type": "execute_result"
    }
   ],
   "source": [
    "round(score_zero, 2)"
   ]
  },
  {
   "cell_type": "code",
   "execution_count": 297,
   "id": "ccd9ae28-571e-43e4-a384-20a6c806f63c",
   "metadata": {},
   "outputs": [
    {
     "data": {
      "text/plain": [
       "0.34"
      ]
     },
     "execution_count": 297,
     "metadata": {},
     "output_type": "execute_result"
    }
   ],
   "source": [
    "round(score_mean, 2)"
   ]
  },
  {
   "cell_type": "markdown",
   "id": "36716638-77f4-469c-ae2e-cd3073f718a1",
   "metadata": {},
   "source": [
    "**question 4**"
   ]
  },
  {
   "cell_type": "code",
   "execution_count": 299,
   "id": "cff29973-e290-4a10-9079-26d27cd84c8f",
   "metadata": {},
   "outputs": [],
   "source": [
    "def train_linear_regression_r(X, y, r):\n",
    "    ones = np.ones(X.shape[0])\n",
    "    X = np.column_stack([ones, X])\n",
    "\n",
    "    XTX = X.T.dot(X)\n",
    "    XTX = XTX + r * np.eye(XTX.shape[0])\n",
    "\n",
    "    XTX_inv = np.linalg.inv(XTX)\n",
    "    w = XTX_inv.dot(X.T).dot(y)\n",
    "\n",
    "    return w[0], w[1:]"
   ]
  },
  {
   "cell_type": "code",
   "execution_count": 303,
   "id": "0d44588e-446c-4958-ab18-6b1e1f9c6b2f",
   "metadata": {},
   "outputs": [
    {
     "name": "stdout",
     "output_type": "stream",
     "text": [
      "r=0.000000 -9.763249477337387 0.34\n",
      "r=0.000001 -9.763228830643307 0.34\n",
      "r=0.000100 -9.761185235453269 0.34\n",
      "r=0.001000 -9.742646249363403 0.34\n",
      "r=0.010000 -9.561056192740143 0.34\n",
      "r=0.100000 -8.058889769357727 0.34\n",
      "r=1.000000 -3.13315427840502 0.34\n",
      "r=5.000000 -0.8410867974437348 0.35\n",
      "r=10.000000 -0.4381172315623696 0.35\n"
     ]
    }
   ],
   "source": [
    "X_train = prepare_X_zero(df_train)\n",
    "X_val = prepare_X_zero(df_val)\n",
    "\n",
    "for r in [0, 0.000001, 0.0001, 0.001, 0.01, 0.1, 1, 5, 10]:\n",
    "    \n",
    "    w0, w_full = train_linear_regression_r(X_train, y_train, r)\n",
    "    y_pred = w0 + X_val.dot(w_full)\n",
    "    score = rmse(y_val, y_pred)\n",
    "\n",
    "    print(\"r=%f\" % r, w0, round(score, 2))"
   ]
  },
  {
   "cell_type": "markdown",
   "id": "40d1646b-cba0-4b95-b051-aaaabf096aad",
   "metadata": {},
   "source": [
    "**question 5**"
   ]
  },
  {
   "cell_type": "code",
   "execution_count": 304,
   "id": "b5032079-500b-437b-976c-575d70002c1f",
   "metadata": {},
   "outputs": [],
   "source": [
    "scores = []\n",
    "\n",
    "for s in [0, 1, 2, 3, 4, 5, 6, 7, 8, 9]:\n",
    "    \n",
    "    # shuffling\n",
    "    idx = np.arange(n)\n",
    "    np.random.seed(s)\n",
    "    np.random.shuffle(idx)\n",
    "\n",
    "    # spliting the dataset\n",
    "    df_train = dataset.iloc[idx[:n_train]]\n",
    "    df_val = dataset.iloc[idx[n_train:n_train+n_val]]\n",
    "    df_test = dataset.iloc[idx[n_train+n_val:]]\n",
    "\n",
    "    df_train = df_train.reset_index(drop=True)\n",
    "    df_val = df_val.reset_index(drop=True)\n",
    "    df_test = df_test.reset_index(drop=True)\n",
    "\n",
    "    df_train['median_house_value'] = np.log1p(df_train.median_house_value)\n",
    "    df_val['median_house_value'] = np.log1p(df_val.median_house_value)\n",
    "    df_test['median_house_value'] = np.log1p(df_test.median_house_value)\n",
    "\n",
    "    # preparing for training & validation\n",
    "    X_train = prepare_X_zero(df_train)\n",
    "    X_val = prepare_X_zero(df_val)\n",
    "    \n",
    "    y_train = df_train.median_house_value.values\n",
    "    y_val = df_val.median_house_value.values\n",
    "\n",
    "    # training \n",
    "    w0, w_full = train_linear_regression(X_train, y_train)\n",
    "\n",
    "    # validation\n",
    "    y_pred = w0 + X_val.dot(w_full)\n",
    "    score = rmse(y_val, y_pred)\n",
    "\n",
    "    scores.append(score)\n",
    "    "
   ]
  },
  {
   "cell_type": "code",
   "execution_count": 305,
   "id": "a0e75ff3-74d5-424a-a27a-487f516a8a6a",
   "metadata": {},
   "outputs": [
    {
     "data": {
      "text/plain": [
       "0.005"
      ]
     },
     "execution_count": 305,
     "metadata": {},
     "output_type": "execute_result"
    }
   ],
   "source": [
    "std = np.std(scores)\n",
    "round(std, 3)"
   ]
  },
  {
   "cell_type": "markdown",
   "id": "049d8972-a903-4116-9e1a-c5fe2d7be1c3",
   "metadata": {},
   "source": [
    "**question 6**"
   ]
  },
  {
   "cell_type": "code",
   "execution_count": 306,
   "id": "3ef900f3-6e16-4a46-9903-f333ac221679",
   "metadata": {},
   "outputs": [
    {
     "data": {
      "text/plain": [
       "0.335"
      ]
     },
     "execution_count": 306,
     "metadata": {},
     "output_type": "execute_result"
    }
   ],
   "source": [
    "# shuffling\n",
    "idx = np.arange(n)\n",
    "np.random.seed(9)\n",
    "np.random.shuffle(idx)\n",
    "\n",
    "# spliting the dataset\n",
    "df_train = dataset.iloc[idx[:n_train]]\n",
    "df_val = dataset.iloc[idx[n_train:n_train+n_val]]\n",
    "df_test = dataset.iloc[idx[n_train+n_val:]]\n",
    "\n",
    "df_train = df_train.reset_index(drop=True)\n",
    "df_val = df_val.reset_index(drop=True)\n",
    "df_test = df_test.reset_index(drop=True)\n",
    "\n",
    "df_train['median_house_value'] = np.log1p(df_train.median_house_value)\n",
    "df_val['median_house_value'] = np.log1p(df_val.median_house_value)\n",
    "df_test['median_house_value'] = np.log1p(df_test.median_house_value)\n",
    "\n",
    "# preparing for training & validation\n",
    "df_full = pd.concat([df_train, df_val])\n",
    "df_full = df_full.reset_index(drop=True)\n",
    "\n",
    "X_full = prepare_X_zero(df_full)\n",
    "X_test = prepare_X_zero(df_test)\n",
    "    \n",
    "y_train = df_train.median_house_value.values\n",
    "y_val = df_val.median_house_value.values\n",
    "y_test = df_test.median_house_value.values\n",
    "\n",
    "y_full = np.concatenate([y_train, y_val])\n",
    "\n",
    "# training\n",
    "r = 0.001\n",
    "w0, w_full = train_linear_regression_r(X_full, y_full, r)\n",
    "\n",
    "# validation\n",
    "y_pred = w0 + X_test.dot(w_full)\n",
    "score = rmse(y_test, y_pred)\n",
    "round(score, 3)"
   ]
  },
  {
   "cell_type": "code",
   "execution_count": null,
   "id": "f399cdbf-5353-4aca-86b6-ad72a3dc2645",
   "metadata": {},
   "outputs": [],
   "source": []
  },
  {
   "cell_type": "code",
   "execution_count": null,
   "id": "8dd1cee4-d13f-4b10-90c4-dc8c365a10ca",
   "metadata": {},
   "outputs": [],
   "source": []
  },
  {
   "cell_type": "code",
   "execution_count": null,
   "id": "45390589-282c-443b-b62e-7e517ba93c22",
   "metadata": {},
   "outputs": [],
   "source": []
  },
  {
   "cell_type": "code",
   "execution_count": null,
   "id": "3ad36e0d-ada4-482d-ae2d-52b840512cba",
   "metadata": {},
   "outputs": [],
   "source": []
  },
  {
   "cell_type": "code",
   "execution_count": null,
   "id": "c482b15d-4f81-40d7-a98f-5740e6e66017",
   "metadata": {},
   "outputs": [],
   "source": []
  },
  {
   "cell_type": "code",
   "execution_count": null,
   "id": "5a7b3412-c3a5-4adb-83c7-1f05f7a10185",
   "metadata": {},
   "outputs": [],
   "source": []
  },
  {
   "cell_type": "code",
   "execution_count": null,
   "id": "41316ce3-7fca-4c13-8dc1-3207b52ea0de",
   "metadata": {},
   "outputs": [],
   "source": []
  },
  {
   "cell_type": "code",
   "execution_count": null,
   "id": "5aab34a8-b4c6-4095-abd7-6fb9adb3164f",
   "metadata": {},
   "outputs": [],
   "source": []
  },
  {
   "cell_type": "code",
   "execution_count": null,
   "id": "710e1cae-eb73-495d-b8e1-f5476ccc67aa",
   "metadata": {},
   "outputs": [],
   "source": []
  },
  {
   "cell_type": "code",
   "execution_count": null,
   "id": "2caccc53-9344-4f16-921d-98fa8059a38d",
   "metadata": {},
   "outputs": [],
   "source": []
  },
  {
   "cell_type": "code",
   "execution_count": null,
   "id": "9f414005-e8b9-4347-b974-d4f532a78bdf",
   "metadata": {},
   "outputs": [],
   "source": []
  },
  {
   "cell_type": "code",
   "execution_count": null,
   "id": "41b1115c-fc98-41a3-ad49-7b0ee061dfc5",
   "metadata": {},
   "outputs": [],
   "source": []
  },
  {
   "cell_type": "code",
   "execution_count": null,
   "id": "71689668-fed4-4d59-9d26-3ece9733668c",
   "metadata": {},
   "outputs": [],
   "source": []
  },
  {
   "cell_type": "code",
   "execution_count": null,
   "id": "5abe1d00-96a2-41ee-8fc3-02910b0f810e",
   "metadata": {},
   "outputs": [],
   "source": []
  },
  {
   "cell_type": "code",
   "execution_count": null,
   "id": "c38c12db-ed07-499a-85c2-376c37459198",
   "metadata": {},
   "outputs": [],
   "source": []
  },
  {
   "cell_type": "code",
   "execution_count": null,
   "id": "37da9077-1282-4348-940f-0e912a017abe",
   "metadata": {},
   "outputs": [],
   "source": []
  },
  {
   "cell_type": "code",
   "execution_count": null,
   "id": "54a91163-8d83-4cdb-adc2-2a6e51455bf7",
   "metadata": {},
   "outputs": [],
   "source": []
  },
  {
   "cell_type": "code",
   "execution_count": null,
   "id": "1f5ff35f-69c4-4b26-aa5e-cb6fc438b0ad",
   "metadata": {},
   "outputs": [],
   "source": []
  },
  {
   "cell_type": "code",
   "execution_count": null,
   "id": "c87049ca-ea47-42fe-b283-847b950ed98f",
   "metadata": {},
   "outputs": [],
   "source": []
  },
  {
   "cell_type": "code",
   "execution_count": null,
   "id": "8b8d113d-e398-4c9f-ad67-a0fa8d94c60a",
   "metadata": {},
   "outputs": [],
   "source": []
  }
 ],
 "metadata": {
  "kernelspec": {
   "display_name": "Python 3 (ipykernel)",
   "language": "python",
   "name": "python3"
  },
  "language_info": {
   "codemirror_mode": {
    "name": "ipython",
    "version": 3
   },
   "file_extension": ".py",
   "mimetype": "text/x-python",
   "name": "python",
   "nbconvert_exporter": "python",
   "pygments_lexer": "ipython3",
   "version": "3.9.18"
  }
 },
 "nbformat": 4,
 "nbformat_minor": 5
}
